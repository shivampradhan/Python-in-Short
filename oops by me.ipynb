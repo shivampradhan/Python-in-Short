{
 "cells": [
  {
   "cell_type": "markdown",
   "metadata": {},
   "source": [
    "# Method overiding"
   ]
  },
  {
   "cell_type": "code",
   "execution_count": 1,
   "metadata": {},
   "outputs": [
    {
     "name": "stdout",
     "output_type": "stream",
     "text": [
      "Blueconch\n"
     ]
    }
   ],
   "source": [
    "class Company:  \n",
    "    def name(self):  \n",
    "        print(\"UST  Global\")  \n",
    "class SubCompany(Company):  \n",
    "    def name(self):  # change a letter to check \n",
    "        print(\"Blueconch\")  \n",
    "d = SubCompany()  \n",
    "d.name()  "
   ]
  },
  {
   "cell_type": "code",
   "execution_count": 2,
   "metadata": {},
   "outputs": [
    {
     "name": "stdout",
     "output_type": "stream",
     "text": [
      "parent function called\n",
      "this is function \n"
     ]
    }
   ],
   "source": [
    "class Parent:\n",
    "     def func1(self):\n",
    "         print(\"parent function called\")\n",
    "class Child(Parent):\n",
    "     def func2(self):\n",
    "          Parent().func1()#try commenting it\n",
    "          print(\"this is function \")\n",
    " \n",
    "ob = Child()\n",
    "ob.func2()"
   ]
  },
  {
   "cell_type": "markdown",
   "metadata": {},
   "source": [
    "#### Method Overloading, a way to create multiple methods with the same name but different arguments, is not possible in Python."
   ]
  },
  {
   "cell_type": "markdown",
   "metadata": {},
   "source": [
    "# Constructor:  represented by __init__(self):\n",
    "\n",
    "\n",
    "##it is the special method.\n",
    "\n",
    "##whenever the objects are created the constructor will automtically run. \n",
    "\n",
    "##the main purpose of the contrutor is object declaration and the Initilization constructor should takes the at least one argument.\n",
    "\n",
    "\n",
    "#Lets see  the below two code we are creating the multiple constructor  in class but keep in mind only the last constrctor will be executed in class ,  so we can create the multiple constructor but the only last contructor will be executed and gets the priority.\n",
    "\n"
   ]
  },
  {
   "cell_type": "code",
   "execution_count": 70,
   "metadata": {},
   "outputs": [
    {
     "name": "stdout",
     "output_type": "stream",
     "text": [
      "with three argument the 2nd constructor is  executed jarvis 45 77\n"
     ]
    }
   ],
   "source": [
    "class Construct:\n",
    "    \n",
    "    def __init__(self):\n",
    "        print(\"without argument the constructor is  executed\")\n",
    "        \n",
    "    def __init__(self,x):\n",
    "        self.x=x\n",
    "        print(\"with one argument the constructor is  executed\",self.x)\n",
    "        \n",
    "    def __init__(self,x,y):\n",
    "        self.x=x\n",
    "        self.y=y\n",
    "        print(\"with two argument the constructor is  executed\",self.x,self.y) \n",
    "        \n",
    "    def __init__(self,x,y,z):\n",
    "        self.x=x\n",
    "        self.y=y\n",
    "        self.z=z\n",
    "        print(\"with three argument the constructor is  executed\",self.x,self.y,self.z)\n",
    "\n",
    "    def __init__(self,x,y,z):\n",
    "        self.x=x\n",
    "        self.y=y\n",
    "        self.z=z\n",
    "        print(\"with three argument the 2nd constructor is  executed\",self.x,self.y,self.z)\n",
    "        \n",
    "#obj  = Construct()    \n",
    "#obj1 = Construct(\"jarvis\")   # it will not work throuh an error\n",
    "\n",
    "#obj2 = Construct(\"jarvis\",45)   # same here also\n",
    "\n",
    "obj3 = Construct(\"jarvis\",45,77) # here the class containg the three argument and it wil be executed\n",
    "  #for multiple constructor last will run\n",
    "        "
   ]
  },
  {
   "cell_type": "code",
   "execution_count": null,
   "metadata": {},
   "outputs": [],
   "source": []
  },
  {
   "cell_type": "markdown",
   "metadata": {},
   "source": [
    "# super "
   ]
  },
  {
   "cell_type": "code",
   "execution_count": 76,
   "metadata": {},
   "outputs": [
    {
     "name": "stdout",
     "output_type": "stream",
     "text": [
      "parent function called\n",
      "this is function \n",
      "2019\n"
     ]
    }
   ],
   "source": [
    "class Parent:\n",
    "     def func1(self):\n",
    "         print(\"parent function called\")\n",
    "class Child(Parent):\n",
    "     def func2(self):\n",
    "          super().func1()#try commenting it\n",
    "          print(\"this is function \")\n",
    "          self.graduationyear = 2019\n",
    "          print(self.graduationyear )\n",
    " \n",
    "ob = Child()\n",
    "ob.func2()"
   ]
  },
  {
   "cell_type": "markdown",
   "metadata": {},
   "source": [
    "# Class"
   ]
  },
  {
   "cell_type": "code",
   "execution_count": 57,
   "metadata": {},
   "outputs": [
    {
     "data": {
      "text/plain": [
       "{}"
      ]
     },
     "execution_count": 57,
     "metadata": {},
     "output_type": "execute_result"
    }
   ],
   "source": [
    "class Student:\n",
    "    pass\n",
    "object_1=Student()\n",
    "isinstance(object_1,Student)\n",
    "object_1.__dict__ "
   ]
  },
  {
   "cell_type": "code",
   "execution_count": 4,
   "metadata": {},
   "outputs": [
    {
     "name": "stdout",
     "output_type": "stream",
     "text": [
      "5\n"
     ]
    }
   ],
   "source": [
    "class MyClass:\n",
    "    x = 5\n",
    "\n",
    "p1 = MyClass()\n",
    "print(p1.x) "
   ]
  },
  {
   "cell_type": "code",
   "execution_count": 58,
   "metadata": {},
   "outputs": [
    {
     "name": "stdout",
     "output_type": "stream",
     "text": [
      "John 36\n",
      "{'name': 'John', 'age': 36}\n"
     ]
    }
   ],
   "source": [
    "class Person:\n",
    "    def __init__(self, name, age):\n",
    "        self.name = name\n",
    "        self.age = age\n",
    "\n",
    "p1 = Person(\"John\", 36)\n",
    "\n",
    "print(p1.name,p1.age)\n",
    "print(p1.__dict__)\n",
    "del p1 \n"
   ]
  },
  {
   "cell_type": "code",
   "execution_count": 6,
   "metadata": {},
   "outputs": [
    {
     "name": "stdout",
     "output_type": "stream",
     "text": [
      "Hello my name is John\n"
     ]
    }
   ],
   "source": [
    "#Use the words mysillyobject and abc instead of self:\n",
    "class Person:\n",
    "  def __init__(mysillyobject, name, age):\n",
    "    mysillyobject.name = name\n",
    "    mysillyobject.age = age\n",
    "\n",
    "  def myfunc(abc):\n",
    "    print(\"Hello my name is \" + abc.name)\n",
    "\n",
    "p1 = Person(\"John\", 36)\n",
    "p1.myfunc() "
   ]
  },
  {
   "cell_type": "markdown",
   "metadata": {},
   "source": [
    "# self: it is the python provided implicit default variables \n",
    "\n",
    "it is always pointed to the current object \n",
    "\n",
    "it is helps in the accesing the current object as well as acesseing the cuurent method too\n",
    " \n",
    "In the contructor self will be the first argument \n",
    "\n",
    "self is the first argument in the instance of the method "
   ]
  },
  {
   "cell_type": "markdown",
   "metadata": {},
   "source": [
    "# Why Self or other name is used\n"
   ]
  },
  {
   "cell_type": "code",
   "execution_count": 77,
   "metadata": {},
   "outputs": [
    {
     "ename": "NameError",
     "evalue": "name 'firstname' is not defined",
     "output_type": "error",
     "traceback": [
      "\u001b[1;31m---------------------------------------------------------------------------\u001b[0m",
      "\u001b[1;31mNameError\u001b[0m                                 Traceback (most recent call last)",
      "\u001b[1;32m<ipython-input-77-227156eabcba>\u001b[0m in \u001b[0;36m<module>\u001b[1;34m\u001b[0m\n\u001b[0;32m     10\u001b[0m \u001b[1;33m\u001b[0m\u001b[0m\n\u001b[0;32m     11\u001b[0m \u001b[0mx\u001b[0m \u001b[1;33m=\u001b[0m \u001b[0mPerson\u001b[0m\u001b[1;33m(\u001b[0m\u001b[1;34m\"John\"\u001b[0m\u001b[1;33m,\u001b[0m \u001b[1;34m\"Doe\"\u001b[0m\u001b[1;33m)\u001b[0m\u001b[1;33m\u001b[0m\u001b[1;33m\u001b[0m\u001b[0m\n\u001b[1;32m---> 12\u001b[1;33m \u001b[0mx\u001b[0m\u001b[1;33m.\u001b[0m\u001b[0mprintname\u001b[0m\u001b[1;33m(\u001b[0m\u001b[1;33m)\u001b[0m\u001b[1;33m\u001b[0m\u001b[1;33m\u001b[0m\u001b[0m\n\u001b[0m",
      "\u001b[1;32m<ipython-input-77-227156eabcba>\u001b[0m in \u001b[0;36mprintname\u001b[1;34m(self)\u001b[0m\n\u001b[0;32m      5\u001b[0m \u001b[1;33m\u001b[0m\u001b[0m\n\u001b[0;32m      6\u001b[0m   \u001b[1;32mdef\u001b[0m \u001b[0mprintname\u001b[0m\u001b[1;33m(\u001b[0m\u001b[0mself\u001b[0m\u001b[1;33m)\u001b[0m\u001b[1;33m:\u001b[0m\u001b[1;33m\u001b[0m\u001b[1;33m\u001b[0m\u001b[0m\n\u001b[1;32m----> 7\u001b[1;33m     \u001b[0mprint\u001b[0m\u001b[1;33m(\u001b[0m\u001b[0mfirstname\u001b[0m\u001b[1;33m,\u001b[0m \u001b[0mlastname\u001b[0m\u001b[1;33m)\u001b[0m\u001b[1;33m\u001b[0m\u001b[1;33m\u001b[0m\u001b[0m\n\u001b[0m\u001b[0;32m      8\u001b[0m \u001b[1;33m\u001b[0m\u001b[0m\n\u001b[0;32m      9\u001b[0m \u001b[1;31m#Use the Person class to create an object, and then execute the printname method:\u001b[0m\u001b[1;33m\u001b[0m\u001b[1;33m\u001b[0m\u001b[1;33m\u001b[0m\u001b[0m\n",
      "\u001b[1;31mNameError\u001b[0m: name 'firstname' is not defined"
     ]
    }
   ],
   "source": [
    "\n",
    "class Person:\n",
    "  def __init__(self, fname, lname):\n",
    "    self.firstname = fname\n",
    "    lastname = lname\n",
    "\n",
    "  def printname(self):\n",
    "    print(firstname, lastname)\n",
    "\n",
    "#Use the Person class to create an object, and then execute the printname method:\n",
    "\n",
    "x = Person(\"John\", \"Doe\")\n",
    "x.printname() "
   ]
  },
  {
   "cell_type": "code",
   "execution_count": null,
   "metadata": {},
   "outputs": [],
   "source": []
  },
  {
   "cell_type": "code",
   "execution_count": null,
   "metadata": {},
   "outputs": [],
   "source": []
  },
  {
   "cell_type": "markdown",
   "metadata": {},
   "source": [
    "# Inheritance"
   ]
  },
  {
   "cell_type": "markdown",
   "metadata": {},
   "source": [
    "#### simple inheritance"
   ]
  },
  {
   "cell_type": "code",
   "execution_count": 8,
   "metadata": {},
   "outputs": [],
   "source": [
    "class Animal:  \n",
    "    def speak(self):  \n",
    "        print(\"Animal Speaking\")  "
   ]
  },
  {
   "cell_type": "code",
   "execution_count": 9,
   "metadata": {},
   "outputs": [],
   "source": [
    "class Dog(Animal):  \n",
    "    def bark(self):  \n",
    "        print(\"dog barking\")"
   ]
  },
  {
   "cell_type": "code",
   "execution_count": 10,
   "metadata": {},
   "outputs": [
    {
     "name": "stdout",
     "output_type": "stream",
     "text": [
      "dog barking\n",
      "Animal Speaking\n"
     ]
    }
   ],
   "source": [
    "d = Dog()  \n",
    "d.bark()  \n",
    "d.speak()  "
   ]
  },
  {
   "cell_type": "markdown",
   "metadata": {},
   "source": [
    "###### Multi-Level inheritance "
   ]
  },
  {
   "cell_type": "code",
   "execution_count": 11,
   "metadata": {},
   "outputs": [],
   "source": [
    "class puppy(Dog):  \n",
    "    def wow(self):  \n",
    "        print(\"puppy wow\")  "
   ]
  },
  {
   "cell_type": "code",
   "execution_count": 12,
   "metadata": {},
   "outputs": [
    {
     "name": "stdout",
     "output_type": "stream",
     "text": [
      "dog barking\n",
      "Animal Speaking\n",
      "puppy wow\n"
     ]
    }
   ],
   "source": [
    "d = puppy()  \n",
    "d.bark()  \n",
    "d.speak()  \n",
    "d.wow()  "
   ]
  },
  {
   "cell_type": "markdown",
   "metadata": {},
   "source": [
    "##### Multiple inheritance"
   ]
  },
  {
   "cell_type": "code",
   "execution_count": 13,
   "metadata": {},
   "outputs": [
    {
     "name": "stdout",
     "output_type": "stream",
     "text": [
      "from mother\n",
      "from father\n",
      "this is kid\n",
      "mummy papa\n"
     ]
    }
   ],
   "source": [
    "\n",
    "# Python example to show the working of multiple  \n",
    "# inheritance \n",
    "class mother(object): \n",
    "    def __init__(self): \n",
    "        self.str1 = \"mummy\"\n",
    "        print(\"from mother\") \n",
    "  \n",
    "class father(object): \n",
    "    def __init__(self): \n",
    "        self.str2 = \"papa\"        \n",
    "        print(\"from father\") \n",
    "  \n",
    "class kid(mother, father): \n",
    "    def __init__(self): \n",
    "          \n",
    "        # Calling constructors of Base1 \n",
    "        # and Base2 classes \n",
    "        mother.__init__(self) \n",
    "        father.__init__(self) \n",
    "        print(\"this is kid\") \n",
    "          \n",
    "    def printStrs(self): \n",
    "        print(self.str1, self.str2) \n",
    "         \n",
    "  \n",
    "ob = kid() \n",
    "ob.printStrs() \n"
   ]
  },
  {
   "cell_type": "code",
   "execution_count": 14,
   "metadata": {},
   "outputs": [
    {
     "name": "stdout",
     "output_type": "stream",
     "text": [
      "second\n",
      "that's it\n"
     ]
    }
   ],
   "source": [
    "# super in multiple inheitance\n",
    "class First(object):\n",
    "    def __init__(self):\n",
    "        print (\"first\")\n",
    "\n",
    "class Second(First):\n",
    "    def __init__(self):\n",
    "        print (\"second\")\n",
    "\n",
    "class Third(First):\n",
    "    def __init__(self):\n",
    "        print (\"third\")\n",
    "\n",
    "class Fourth(Second, Third):\n",
    "    def __init__(self):\n",
    "        super(Fourth, self).__init__()\n",
    "        print (\"that's it\")\n",
    "a=Fourth()\n"
   ]
  },
  {
   "cell_type": "markdown",
   "metadata": {},
   "source": [
    "###### Heirarchy inheritance"
   ]
  },
  {
   "cell_type": "code",
   "execution_count": 15,
   "metadata": {},
   "outputs": [
    {
     "name": "stdout",
     "output_type": "stream",
     "text": [
      "This function is in parent class.\n",
      "This function is in child 1.\n"
     ]
    }
   ],
   "source": [
    " \n",
    "# Base class\n",
    "class Parent:\n",
    "      def func1(self):\n",
    "            print(\"This function is in parent class.\")\n",
    "# Derived class1\n",
    "class Child1(Parent):\n",
    "      def func2(self):\n",
    "            print(\"This function is in child 1.\")\n",
    "# Derivied class2\n",
    "class Child2(Parent):\n",
    "      def func3(self):\n",
    "            print(\"This function is in child 2.\")\n",
    "# Driver's code\n",
    "object1 = Child1()\n",
    "object2 = Child2()\n",
    "object1.func1()\n",
    "object1.func2()\n",
    "#object2.func1(),object2.func3()"
   ]
  },
  {
   "cell_type": "markdown",
   "metadata": {},
   "source": [
    "##### hybrid inheitance"
   ]
  },
  {
   "cell_type": "code",
   "execution_count": 16,
   "metadata": {},
   "outputs": [
    {
     "name": "stdout",
     "output_type": "stream",
     "text": [
      "This function is in school.\n",
      "This function is in student 1. \n"
     ]
    }
   ],
   "source": [
    "class School:\n",
    "     def func1(self):\n",
    "         print(\"This function is in school.\")\n",
    "\n",
    "class Student1(School):\n",
    "     def func2(self):\n",
    "         print(\"This function is in student 1. \")\n",
    "class Student2(School):\n",
    "     def func3(self):\n",
    "         print(\"This function is in student 2.\")\n",
    "class Student3(Student1, School):\n",
    "     def func4(self):\n",
    "         print(\"This function is in student 3.\")\n",
    "# Driver's code\n",
    "object = Student3()\n",
    "object.func1()\n",
    "object.func2()"
   ]
  },
  {
   "cell_type": "code",
   "execution_count": null,
   "metadata": {},
   "outputs": [],
   "source": []
  },
  {
   "cell_type": "markdown",
   "metadata": {},
   "source": [
    "#### issubclass(sub, sup) method \n",
    "It returns true if the first class is the subclass of the second class, and false otherwise."
   ]
  },
  {
   "cell_type": "code",
   "execution_count": 17,
   "metadata": {},
   "outputs": [
    {
     "name": "stdout",
     "output_type": "stream",
     "text": [
      "False\n",
      "True\n"
     ]
    }
   ],
   "source": [
    "print(issubclass(mother,kid)) \n",
    "print(issubclass(kid,mother)) "
   ]
  },
  {
   "cell_type": "markdown",
   "metadata": {},
   "source": [
    "####  isinstance (obj, class) method\n",
    "It returns true if the first parameter, i.e., obj is the instance of the second parameter, i.e., class. "
   ]
  },
  {
   "cell_type": "code",
   "execution_count": 18,
   "metadata": {},
   "outputs": [
    {
     "name": "stdout",
     "output_type": "stream",
     "text": [
      "True\n"
     ]
    }
   ],
   "source": [
    "print(isinstance(ob,kid))  "
   ]
  },
  {
   "cell_type": "markdown",
   "metadata": {},
   "source": [
    "Suppose class C inherits from classes A and B as class C(A,B).Classes A and B both have their own versions of method func(). If we call func() from an object of class C, which version gets invoked?\n",
    "\n",
    "Ans. In our article on Multiple Inheritance in Python, we discussed Method Resolution Order (MRO). C does not contain its own version of func(). Since the interpreter searches in a left-to-right fashion, it finds the method in A, and does not go to look for it in B."
   ]
  },
  {
   "cell_type": "markdown",
   "metadata": {},
   "source": [
    "**Composition**\n",
    "\n",
    "As we study inheritance another concpet came into field of OOPS when two classes highly depend on each other.\n",
    "\n",
    "\n",
    "\n",
    "```\n",
    "Like: Books are the part of Library.\n",
    "\n",
    "It is a (Part of) relationship.\n",
    "```\n",
    "\n",
    "\n",
    " composition is also a type of inheritance in Python. It intends to inherit from the base class but a little differently, i.e.\n",
    " \n",
    " ### by using an instance variable of the base class acting as a member of the derived class."
   ]
  },
  {
   "cell_type": "code",
   "execution_count": 24,
   "metadata": {},
   "outputs": [
    {
     "name": "stdout",
     "output_type": "stream",
     "text": [
      "Total: 7700\n"
     ]
    }
   ],
   "source": [
    "class Salary:\n",
    "    def __init__(self, pay):\n",
    "        self.pay = pay\n",
    " \n",
    "    def get_total(self):\n",
    "        return (self.pay*12)\n",
    " \n",
    " \n",
    "class Employee:\n",
    "    def __init__(self, pay, bonus):\n",
    "        self.pay = pay\n",
    "        self.bonus = bonus\n",
    "        self.obj_salary = Salary(self.pay)\n",
    " \n",
    "    def annual_salary(self):\n",
    "        return \"Total: \" + str(self.obj_salary.get_total() + self.bonus)\n",
    " \n",
    " \n",
    "obj_emp = Employee(600, 500)\n",
    "print(obj_emp.annual_salary())"
   ]
  },
  {
   "cell_type": "code",
   "execution_count": 25,
   "metadata": {},
   "outputs": [
    {
     "name": "stdout",
     "output_type": "stream",
     "text": [
      "Component class object created...\n",
      "Composite class object also created...\n",
      "Composite class m2() method executed...\n",
      "Component class m1() method executed...\n"
     ]
    }
   ],
   "source": [
    "\n",
    "class Component: \n",
    "  \n",
    "   # composite class constructor \n",
    "    def __init__(self): \n",
    "        print('Component class object created...') \n",
    "  \n",
    "    # composite class instance method \n",
    "    def m1(self): \n",
    "        print('Component class m1() method executed...') \n",
    "  \n",
    "  \n",
    "class Composite: \n",
    "  \n",
    "    # composite class constructor \n",
    "    def __init__(self): \n",
    "  \n",
    "        # creating object of component class \n",
    "        self.obj1 = Component() \n",
    "          \n",
    "        print('Composite class object also created...') \n",
    "  \n",
    "     # composite class instance method \n",
    "    def m2(self): \n",
    "        \n",
    "        print('Composite class m2() method executed...') \n",
    "  \n",
    "        # calling m1() method of component class \n",
    "        self.obj1.m1() \n",
    "  \n",
    "  \n",
    "# creating object of composite class \n",
    "obj2 = Composite() \n",
    "  \n",
    "# calling m2() method of composite class \n",
    "obj2.m2() \n"
   ]
  },
  {
   "cell_type": "markdown",
   "metadata": {},
   "source": [
    "**Aggregation**\n",
    "\n",
    "\n",
    "```\n",
    "Bank has a employee.\n",
    "employee has a salary.\n",
    "It is a (has a) relationship.\n",
    "```\n"
   ]
  },
  {
   "cell_type": "code",
   "execution_count": 2,
   "metadata": {},
   "outputs": [
    {
     "name": "stdout",
     "output_type": "stream",
     "text": [
      "12000000\n"
     ]
    }
   ],
   "source": [
    "class Salary:\n",
    "  def __init__(self,pay):\n",
    "    self.pay = pay\n",
    "  def annual_salary(self):\n",
    "    return self.pay*12\n",
    "\n",
    "class Employee:\n",
    "  def __init__(self,name,age,sal):\n",
    "    self.name = name\n",
    "    self.age = age\n",
    "    self.counted = sal\n",
    "    print(self.counted.annual_salary())\n",
    "s = Salary(1000000)\n",
    "e = Employee(\"Muhammad Hanan\", 19, s)"
   ]
  },
  {
   "cell_type": "code",
   "execution_count": null,
   "metadata": {},
   "outputs": [],
   "source": []
  },
  {
   "cell_type": "code",
   "execution_count": null,
   "metadata": {},
   "outputs": [],
   "source": []
  },
  {
   "cell_type": "markdown",
   "metadata": {},
   "source": [
    "# Polymorphism\n",
    "same function name (but different signatures) being uses for different types.\n",
    "## There are four ways of implementing Polymorphism\n",
    "- Duck Typing : The behaviour of Duck will make it as Duck,behaviour matches with Duck then it is a Duck\n",
    "- Operator Overloading : Whenever using the operator(+,-,/,*) we are calling the method for it \n",
    "- Method Overloading : No two same methods (same name) in a class so define method accordingly to use the defined parameters \n",
    "- Method Overriding : If the subclass has its own method that will be printed/created not the inherited one\n",
    "\n",
    "### Overoading:\n",
    "\n",
    "     ### Operator Overloading\n",
    "     ### Method overloading\n",
    "     ### Constructor Overloading\n",
    "     \n",
    "### Overiding\n",
    "\n",
    "    ### Method Overriding\n",
    "    ### Constructor Overiding\n",
    "    \n",
    "    \n",
    "   #### Operator Overloadig :The Magic Methods Are Required\n",
    "\n",
    "\n",
    "\n",
    "+  ---------> __add__(self,other)\n",
    "\n",
    "-  ---------> __sub__(self,other)\n",
    "\n",
    "*  ---------> __mul__(self,other)\n",
    "\n",
    "/  ---------> __div__(self,other)\n",
    "\n",
    "//  ---------> __floordiv__(self,other)\n",
    "\n",
    "%  ---------> __mod__(self,other)\n",
    "\n",
    "** ---------> __pow__(self,other)\n",
    "\n",
    "\n",
    "\n",
    "+=  ---------> __iadd__(self,other)\n",
    "\n",
    "-=  ---------> __isub__(self,other)\n",
    "\n",
    "*=  ---------> __imul__(self,other)\n",
    "\n",
    "/=  ---------> __idiv__(self,other)\n",
    "\n",
    "//=  ---------> __ifloordiv__(self,other)\n",
    "\n",
    "%=  ---------> __imod__(self,other)\n",
    "\n",
    "**=  ---------> __ipow__(self,other)\n",
    "\n",
    "\n",
    "\n",
    "<  ---------> __lt__(self,other)\n",
    "\n",
    "<=  ---------> __le__(self,other)\n",
    "\n",
    ">  ---------> __gt__(self,other)\n",
    "\n",
    ">=  ---------> __ge__(self,other)\n",
    "\n",
    "==  ---------> __eq__(self,other)\n",
    "\n",
    "!=  ---------> __ne__(self,other)\n",
    "\n"
   ]
  },
  {
   "cell_type": "code",
   "execution_count": 28,
   "metadata": {},
   "outputs": [
    {
     "name": "stdout",
     "output_type": "stream",
     "text": [
      "6\n",
      "3\n",
      "3\n",
      "Python Programming\n"
     ]
    }
   ],
   "source": [
    " #in-built polymorphic functions \n",
    "    # len() being used for a string \n",
    "print(len(\"shivam\")) \n",
    "  \n",
    "# len() being used for a list \n",
    "print(len([10, 20, 30])) \n",
    "\n",
    "num1 ,num2 = 1,2\n",
    "print(num1+num2)\n",
    "\n",
    "str1,str2  = \"Python\",\"Programming\"\n",
    "print(str1+\" \"+str2)"
   ]
  },
  {
   "cell_type": "code",
   "execution_count": 27,
   "metadata": {},
   "outputs": [
    {
     "name": "stdout",
     "output_type": "stream",
     "text": [
      "5\n",
      "9\n"
     ]
    }
   ],
   "source": [
    "  \n",
    "def add(x, y, z = 0):  \n",
    "    return x + y+z \n",
    "  \n",
    "# Driver code  \n",
    "print(add(2, 3)) \n",
    "print(add(2, 3, 4)) "
   ]
  },
  {
   "cell_type": "code",
   "execution_count": 13,
   "metadata": {},
   "outputs": [
    {
     "name": "stdout",
     "output_type": "stream",
     "text": [
      "False\n",
      "False\n",
      "True\n",
      "True\n"
     ]
    }
   ],
   "source": [
    "## Exaple of Operator Overloading:\n",
    "\n",
    "\n",
    "class Student:\n",
    "    def __init__(self,name,marks):\n",
    "        self.name=name\n",
    "        self.marks=marks\n",
    "        \n",
    "    def __gt__(self,other):\n",
    "        \n",
    "        return self.marks>other.marks\n",
    "           \n",
    "    def __ge__(self,other):\n",
    "        \n",
    "        return self.marks>=other.marks\n",
    "    \n",
    "    def __lt__(self,other):\n",
    "        \n",
    "        return self.marks<other.marks\n",
    "    \n",
    "    def __le__(self,other):\n",
    "        \n",
    "        return self.marks<=other.marks\n",
    "        \n",
    "        \n",
    "           \n",
    "s1 = Student(\"Tom\",232)\n",
    "s2 = Student(\"Jack\",422)\n",
    "\n",
    "print(s1>s2)\n",
    "\n",
    "print(s1>=s2)\n",
    "\n",
    "print(s1<s2)\n",
    "\n",
    "print(s1<=s2)\n",
    "\n"
   ]
  },
  {
   "cell_type": "code",
   "execution_count": null,
   "metadata": {},
   "outputs": [],
   "source": []
  },
  {
   "cell_type": "markdown",
   "metadata": {},
   "source": [
    "**Abstract Classes and Methods**\n",
    "\n",
    "\n",
    "```\n",
    "I don't want ot allow user to create object of my parent class.\n",
    "And I don't want ot allow users to use my Parent class functions or methods such type of classes and methods are called Abstract Classes and Abstract Methods.\n",
    "```\n",
    "\n",
    "\n",
    "\n",
    "> In order to make any class Abstract Class we must inherit this class from ABC Class by import from the following line \n",
    "\n",
    "> from abc import ABC, abstractmethod\n",
    "\n",
    "\n",
    "\n",
    "> In order to make any module abstract module we must add abstractmethod decorator above it.Like @abstractmethod\n",
    "\n",
    "\n",
    "\n",
    "> It is mandotary for anyone who use the abstract class or inherit from abstract class he must make same methods in his main class same that are present in abstract class example are belown\n",
    "\n",
    "\n",
    "\n",
    "\n",
    "\n",
    "\n",
    "\n"
   ]
  },
  {
   "cell_type": "code",
   "execution_count": 3,
   "metadata": {},
   "outputs": [
    {
     "name": "stdout",
     "output_type": "stream",
     "text": [
      "144\n"
     ]
    }
   ],
   "source": [
    "from abc import ABC, abstractmethod\n",
    "\n",
    "class Shape(ABC):\n",
    "  @abstractmethod\n",
    "  def area(self):\n",
    "    pass\n",
    "  @abstractmethod\n",
    "  def perimeter(self):\n",
    "    pass\n",
    "\n",
    "class Square(Shape):\n",
    "  def __init__(self, side):\n",
    "    self.__side = side\n",
    "  \n",
    "  def area(self):\n",
    "    return self.__side*self.__side\n",
    "  \n",
    "  def perimeter(self):\n",
    "    return self.__side*4\n",
    "\n",
    "sq = Square(12)\n",
    "print(sq.area())"
   ]
  },
  {
   "cell_type": "code",
   "execution_count": null,
   "metadata": {},
   "outputs": [],
   "source": []
  },
  {
   "cell_type": "markdown",
   "metadata": {},
   "source": [
    "# Abstraction"
   ]
  },
  {
   "cell_type": "code",
   "execution_count": 67,
   "metadata": {},
   "outputs": [
    {
     "name": "stdout",
     "output_type": "stream",
     "text": [
      "The number of employees 2\n"
     ]
    }
   ],
   "source": [
    "class Employee:  \n",
    "    __count = 0;  \n",
    "    def __init__(self):  \n",
    "        Employee.__count = Employee.__count+1  \n",
    "    def display(self):  \n",
    "        print(\"The number of employees\",Employee.__count)  \n",
    "emp = Employee()  \n",
    "emp2 = Employee()  \n",
    "try:  \n",
    "    print(emp.__count)  #remove except to see error due to abstraction\n",
    "except:  \n",
    "    emp.display()  "
   ]
  },
  {
   "cell_type": "code",
   "execution_count": 63,
   "metadata": {},
   "outputs": [
    {
     "name": "stdout",
     "output_type": "stream",
     "text": [
      "Abstraction class\n"
     ]
    }
   ],
   "source": [
    "print('Abstraction class')\n",
    "from abc import ABC,abstractmethod\n",
    "class Employee(ABC):\n",
    "    @abstractmethod\n",
    "    def fetch_salary(self,sal):\n",
    "        pass"
   ]
  },
  {
   "cell_type": "code",
   "execution_count": 62,
   "metadata": {},
   "outputs": [
    {
     "name": "stdout",
     "output_type": "stream",
     "text": [
      "Salary of employee is  5000\n"
     ]
    }
   ],
   "source": [
    "class Developer(Employee):\n",
    "\n",
    "    def fetch_salary(self,sal):\n",
    "        print(\"Salary of employee is \",sal)\n",
    "dev=Developer()\n",
    "dev.fetch_salary(5000)"
   ]
  },
  {
   "cell_type": "markdown",
   "metadata": {},
   "source": [
    "# Interface"
   ]
  },
  {
   "cell_type": "code",
   "execution_count": 11,
   "metadata": {},
   "outputs": [
    {
     "name": "stdout",
     "output_type": "stream",
     "text": [
      "Spell check\n",
      "Compiling\n"
     ]
    }
   ],
   "source": [
    "# In other programming language this is called Interface\n",
    "class Pycharm:\n",
    "    def execute(self):\n",
    "        print(\"Compiling\")\n",
    "        print(\"Running\")\n",
    "\n",
    "class MyEditor:\n",
    "    def execute(self):\n",
    "        print(\"Spell check\")\n",
    "        print(\"Compiling\")\n",
    "        \n",
    "        \n",
    "class Laptop:\n",
    "    def code(self,ide):\n",
    "        ide.execute()\n",
    " \n",
    "ide = MyEditor()\n",
    "lap1=Laptop()\n",
    "lap1.code(ide)\n"
   ]
  },
  {
   "cell_type": "code",
   "execution_count": 30,
   "metadata": {},
   "outputs": [
    {
     "name": "stdout",
     "output_type": "stream",
     "text": [
      "<class 'zope.interface.interface.InterfaceClass'>\n",
      "__main__\n",
      "MyInterface\n"
     ]
    }
   ],
   "source": [
    "\n",
    "import zope.interface \n",
    "  \n",
    "  \n",
    "class MyInterface(zope.interface.Interface): \n",
    "    x = zope.interface.Attribute(\"foo\") \n",
    "    def method1(self, x): \n",
    "        pass\n",
    "    def method2(self): \n",
    "        pass\n",
    "      \n",
    "print(type(MyInterface)) \n",
    "print(MyInterface.__module__) \n",
    "print(MyInterface.__name__) \n",
    "  \n"
   ]
  },
  {
   "cell_type": "code",
   "execution_count": 31,
   "metadata": {},
   "outputs": [
    {
     "name": "stdout",
     "output_type": "stream",
     "text": [
      "<zope.interface.interface.Attribute object at 0x000001E245463FA0>\n",
      "<class 'zope.interface.interface.Attribute'>\n"
     ]
    }
   ],
   "source": [
    "# get attribute \n",
    "x = MyInterface['x'] \n",
    "print(x) \n",
    "print(type(x)) \n"
   ]
  },
  {
   "cell_type": "code",
   "execution_count": 35,
   "metadata": {},
   "outputs": [],
   "source": [
    "\n",
    "import zope.interface \n",
    "  \n",
    "  \n",
    "class MyInterface(zope.interface.Interface): \n",
    "    x = zope.interface.Attribute('foo') \n",
    "    def method1(self, x, y, z): \n",
    "        pass\n",
    "    def method2(self): \n",
    "        pass\n",
    "  \n",
    "@zope.interface.implementer(MyInterface) \n",
    "class MyClass: \n",
    "    def method1(self, x): \n",
    "        return x**2\n",
    "    def method2(self): \n",
    "        return \"foo\"\n",
    "obj = MyClass() \n",
    "  \n",
    "\n"
   ]
  },
  {
   "cell_type": "code",
   "execution_count": 36,
   "metadata": {},
   "outputs": [
    {
     "name": "stdout",
     "output_type": "stream",
     "text": [
      "True\n",
      "False\n",
      "True\n"
     ]
    }
   ],
   "source": [
    "# ask an interface whether it  \n",
    "# is implemented by a class: \n",
    "print(MyInterface.implementedBy(MyClass)) \n",
    "  \n",
    "# MyClass does not provide  \n",
    "# MyInterface but implements it: \n",
    "print(MyInterface.providedBy(MyClass)) \n",
    "  \n",
    "# ask whether an interface \n",
    "# is provided by an object: \n",
    "print(MyInterface.providedBy(obj)) \n",
    "  \n"
   ]
  },
  {
   "cell_type": "code",
   "execution_count": 37,
   "metadata": {},
   "outputs": [
    {
     "name": "stdout",
     "output_type": "stream",
     "text": [
      "[<InterfaceClass __main__.MyInterface>]\n",
      "[<InterfaceClass __main__.MyInterface>]\n",
      "[]\n"
     ]
    }
   ],
   "source": [
    "# ask what interfaces are  \n",
    "# implemented by a class: \n",
    "print(list(zope.interface.implementedBy(MyClass))) \n",
    "  \n",
    "# ask what interfaces are \n",
    "# provided by an object: \n",
    "print(list(zope.interface.providedBy(obj))) \n",
    "  \n",
    "# class does not provide interface \n",
    "print(list(zope.interface.providedBy(MyClass))) "
   ]
  },
  {
   "cell_type": "markdown",
   "metadata": {},
   "source": [
    "# Encapsulation\n",
    "\n",
    " binding of data and functions that manipulate the data.\n",
    "It is a process of wrapping up data and variables together.\n",
    "\n",
    "It describes the idea of wrapping data and the methods that work on data within one unit. This puts restrictions on accessing variables and methods directly and can prevent the accidental modification of data. "
   ]
  },
  {
   "cell_type": "markdown",
   "metadata": {},
   "source": [
    "### Access modifier"
   ]
  },
  {
   "cell_type": "code",
   "execution_count": 80,
   "metadata": {},
   "outputs": [
    {
     "name": "stdout",
     "output_type": "stream",
     "text": [
      "Calling protected member of base class: \n",
      "2\n",
      "Calling private member of base class: \n",
      "2\n"
     ]
    }
   ],
   "source": [
    "# Creating a base class\n",
    "class Base:\n",
    "    def __init__(self):\n",
    "        self.i = 2 \n",
    "        # Protected member\n",
    "        self._a = 2\n",
    "        #private member\n",
    "        self.__c = \"GeeksforGeeks\"\n",
    " \n",
    "# Creating a derived class    \n",
    "class Derived(Base):\n",
    "    def __init__(self):\n",
    "         \n",
    "        # Calling constructor of\n",
    "        # Base class\n",
    "        Base.__init__(self) \n",
    "        print(\"Calling protected member of base class: \")\n",
    "        print(self._a)\n",
    "        #print(self.__c) ######## cant use privste in derived class#########################\n",
    "        print(\"Calling private member of base class: \")\n",
    " \n",
    "obj1 = Derived()\n",
    "         \n",
    "obj2 = Base()\n",
    " \n",
    "\n",
    "print(obj2.i)\n"
   ]
  },
  {
   "cell_type": "raw",
   "metadata": {},
   "source": [
    "print(obj2.a)# Calling protected memberOutside class will  result in AttributeError"
   ]
  },
  {
   "cell_type": "code",
   "execution_count": 1,
   "metadata": {},
   "outputs": [
    {
     "name": "stdout",
     "output_type": "stream",
     "text": [
      "Hanan\n",
      "19\n",
      "34\n"
     ]
    }
   ],
   "source": [
    "# Setter In function set name is convention in python to declare setter.\n",
    "class Encapsulation:\n",
    "  def __init__(self):\n",
    "    self.name = \"Hanan\"\n",
    "    self.__age = 19\n",
    "  def get_age(self):\n",
    "    return self.__age\n",
    "  def set_age(self):\n",
    "    self.__age = 34\n",
    "\n",
    "e = Encapsulation()\n",
    "print(e.name)\n",
    "print(e.get_age())\n",
    "e.set_age()\n",
    "print(e.get_age())"
   ]
  },
  {
   "cell_type": "markdown",
   "metadata": {},
   "source": [
    "# Class and static methods"
   ]
  },
  {
   "cell_type": "code",
   "execution_count": 6,
   "metadata": {},
   "outputs": [],
   "source": [
    "class Student():\n",
    "    \n",
    "    school=\"RLB\"  #This is the class variable \n",
    "    \n",
    "    def __init__(self,m1,m2,m3):    #These two are instance method having instance variable \n",
    "        self.m1=m1\n",
    "        self.m2=m2\n",
    "        self.m3=m3\n",
    "    \n",
    "    def avg(self):        #This is for average\n",
    "        return (self.m1+self.m2+self.m3)/3\n",
    "    \n",
    "    @classmethod        #Instead of self you have to write cls for class , think about class variable\n",
    "    def check(cls):\n",
    "        return cls.school\n",
    "    \n",
    "    @staticmethod    #This is something extra with class and nothing to do with variable \n",
    "    def info():\n",
    "        print(\"My name is Shivam\")"
   ]
  },
  {
   "cell_type": "code",
   "execution_count": 7,
   "metadata": {},
   "outputs": [
    {
     "name": "stdout",
     "output_type": "stream",
     "text": [
      "My name is Shivam\n"
     ]
    }
   ],
   "source": [
    "s1=Student(45,56,88)\n",
    "s1.info()"
   ]
  },
  {
   "cell_type": "code",
   "execution_count": 14,
   "metadata": {},
   "outputs": [
    {
     "name": "stdout",
     "output_type": "stream",
     "text": [
      "2020-04-27 is a working day.\n"
     ]
    }
   ],
   "source": [
    "class Employee:\n",
    "    \n",
    "    raise_percentage = 40\n",
    "    num_of_emps = 0           \n",
    "    \n",
    "    def __init__(self, first, last, pay):           \n",
    "        self.first = first\n",
    "        self.last = last\n",
    "        self.pay = pay                \n",
    "        self.email = first + '.' + last + '@company.com'\n",
    "        Employee.num_of_emps += 1 \n",
    "\n",
    "        \n",
    "    def fullname(self):                         \n",
    "        return f'{self.first} {self.last}'\n",
    "    \n",
    "    def apply_raise(self):\n",
    "        self.pay = int(self.pay * (Employee.raise_percentage/100+1))\n",
    "        \n",
    "    @classmethod\n",
    "    def set_raise_amount(cls, percentage):   \n",
    "        cls.raise_percentage = percentage\n",
    "        \n",
    "    @classmethod\n",
    "    def from_string(cls, emp_string):\n",
    "        first, last, pay = emp_string.split('-')\n",
    "        return cls(first, last, pay)\n",
    "    \n",
    "    @staticmethod\n",
    "    def is_workday(day):\n",
    "        if day.weekday() == 5 or day.weekday() == 6:   # Python's built-in weekday() method\n",
    "                                                       # monday = 0, sunday = 6 \n",
    "            return f'{day} is not a working day.'\n",
    "        else:\n",
    "            return f'{day} is a working day.'\n",
    "import datetime\n",
    "my_date = datetime.date(2020, 4, 27)\n",
    "\n",
    "print(Employee.is_workday(my_date))\n",
    "# In case you see that a method does not use any of the class attributes or instance attributes\n",
    "# It's better to use that as a static method"
   ]
  },
  {
   "cell_type": "code",
   "execution_count": null,
   "metadata": {},
   "outputs": [],
   "source": []
  },
  {
   "cell_type": "code",
   "execution_count": null,
   "metadata": {},
   "outputs": [],
   "source": []
  },
  {
   "cell_type": "code",
   "execution_count": null,
   "metadata": {},
   "outputs": [],
   "source": []
  },
  {
   "cell_type": "markdown",
   "metadata": {},
   "source": [
    "# class in class"
   ]
  },
  {
   "cell_type": "code",
   "execution_count": 10,
   "metadata": {},
   "outputs": [
    {
     "data": {
      "text/plain": [
       "'Shivam'"
      ]
     },
     "execution_count": 10,
     "metadata": {},
     "output_type": "execute_result"
    }
   ],
   "source": [
    "#You can create object of inner class inside the outer class\n",
    "# You can create object of inner class outisde the outer class provided you use outer class name to call it\n",
    "class student:\n",
    "    def __init__(self,name,rollno):\n",
    "        self.name=name \n",
    "        self.rollno = rollno\n",
    "        self.lap=self.Laptop()\n",
    "        \n",
    "    def show(self):\n",
    "        print(self.name,self.rollno)\n",
    "        \n",
    "    class Laptop:\n",
    "        \n",
    "        def __init__(self):\n",
    "            self.brand ='HP'\n",
    "            self.cpu='i5'\n",
    "s1= student('Shivam',24232)\n",
    "s1.name"
   ]
  },
  {
   "cell_type": "code",
   "execution_count": null,
   "metadata": {},
   "outputs": [],
   "source": []
  },
  {
   "cell_type": "markdown",
   "metadata": {},
   "source": [
    "# Magical method\n",
    "#### There are different methods(Magical methods) for different operators # __add__ , __sub__, __mult__\n"
   ]
  },
  {
   "cell_type": "code",
   "execution_count": 12,
   "metadata": {},
   "outputs": [
    {
     "name": "stdout",
     "output_type": "stream",
     "text": [
      "56\n",
      "56\n"
     ]
    }
   ],
   "source": [
    "a='5'\n",
    "b='6'\n",
    "print(a+b)\n",
    "print(str.__add__(a,b))"
   ]
  },
  {
   "cell_type": "code",
   "execution_count": null,
   "metadata": {},
   "outputs": [],
   "source": []
  }
 ],
 "metadata": {
  "kernelspec": {
   "display_name": "Python 3",
   "language": "python",
   "name": "python3"
  },
  "language_info": {
   "codemirror_mode": {
    "name": "ipython",
    "version": 3
   },
   "file_extension": ".py",
   "mimetype": "text/x-python",
   "name": "python",
   "nbconvert_exporter": "python",
   "pygments_lexer": "ipython3",
   "version": "3.8.3"
  }
 },
 "nbformat": 4,
 "nbformat_minor": 4
}
