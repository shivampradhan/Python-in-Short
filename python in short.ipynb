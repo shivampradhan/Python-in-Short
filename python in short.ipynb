{
 "cells": [
  {
   "cell_type": "markdown",
   "metadata": {},
   "source": [
    "# Palindrome"
   ]
  },
  {
   "cell_type": "code",
   "execution_count": 182,
   "metadata": {},
   "outputs": [],
   "source": [
    "\n",
    "def palindrome(a):\n",
    "    a=a.lower()\n",
    "    ## looping through the string to find out alphabets\n",
    "    only_alpha = \"\"\n",
    "    for char in a:\n",
    "\n",
    "        ## checking whether the char is an alphabet or not using chr.isalpha() method\n",
    "        if (char.isalnum()):\n",
    "            only_alpha += char\n",
    "\n",
    "    if (only_alpha==only_alpha[::-1]):\n",
    "        print(\"this is a palindrome\")\n",
    "    else :\n",
    "        print(\"not a palindrome\")"
   ]
  },
  {
   "cell_type": "code",
   "execution_count": 183,
   "metadata": {},
   "outputs": [
    {
     "name": "stdout",
     "output_type": "stream",
     "text": [
      "this is a palindrome\n"
     ]
    }
   ],
   "source": [
    "s=\"Race/$ car?\"\n",
    "palindrome(s)"
   ]
  },
  {
   "cell_type": "code",
   "execution_count": 242,
   "metadata": {},
   "outputs": [
    {
     "data": {
      "text/plain": [
       "True"
      ]
     },
     "execution_count": 242,
     "metadata": {},
     "output_type": "execute_result"
    }
   ],
   "source": [
    "'shivam123'.isalnum()"
   ]
  },
  {
   "cell_type": "markdown",
   "metadata": {},
   "source": [
    "# Python closures \n",
    "they are function objects returned by another function. \n",
    "#### A closure is said to occur when a nested function references a value in its enclosing scope. The whole point here is that it remembers the value.\n"
   ]
  },
  {
   "cell_type": "code",
   "execution_count": 376,
   "metadata": {},
   "outputs": [
    {
     "name": "stdout",
     "output_type": "stream",
     "text": [
      "<function A.<locals>.B at 0x000002232650F940>\n",
      "7\n",
      "None\n"
     ]
    }
   ],
   "source": [
    "\n",
    "def A(x):\n",
    "    def B():\n",
    "        print(x)\n",
    "    return B\n",
    "\n",
    "print(A(7))\n",
    "print(A(7)())"
   ]
  },
  {
   "cell_type": "markdown",
   "metadata": {},
   "source": [
    "# decorator"
   ]
  },
  {
   "cell_type": "code",
   "execution_count": 366,
   "metadata": {},
   "outputs": [
    {
     "name": "stdout",
     "output_type": "stream",
     "text": [
      "$$$$$$$$$$$$$$$$$\n",
      "Hi\n",
      "$$$$$$$$$$$$$$$$$\n"
     ]
    }
   ],
   "source": [
    "def decor(func):\n",
    "    def wrap():\n",
    "        print(\"$$$$$$$$$$$$$$$$$\")\n",
    "        func()\n",
    "        print(\"$$$$$$$$$$$$$$$$$\")\n",
    "    return wrap\n",
    "\n",
    "@decor\n",
    "def hi():\n",
    "    print(\"Hi\")\n",
    "\n",
    "hi()"
   ]
  },
  {
   "cell_type": "code",
   "execution_count": 362,
   "metadata": {},
   "outputs": [
    {
     "data": {
      "text/plain": [
       "'Hello World'"
      ]
     },
     "execution_count": 362,
     "metadata": {},
     "output_type": "execute_result"
    }
   ],
   "source": [
    "def hello():\n",
    "    return 'Hello World'\n",
    "hello()"
   ]
  },
  {
   "cell_type": "code",
   "execution_count": 360,
   "metadata": {},
   "outputs": [],
   "source": [
    "# decorator function to convert to lowercase\n",
    "def lowercase_decorator(function):\n",
    "    def wrapper():\n",
    "        func = function()\n",
    "        string_lowercase = func.lower()\n",
    "        return string_lowercase\n",
    "    return wrapper\n",
    "\n",
    "# decorator function to split words\n",
    "def splitter_decorator(function):\n",
    "    def wrapper():\n",
    "        func = function()\n",
    "        string_split = func.split()\n",
    "        return string_split\n",
    "    return wrapper\n"
   ]
  },
  {
   "cell_type": "code",
   "execution_count": 361,
   "metadata": {},
   "outputs": [
    {
     "data": {
      "text/plain": [
       "['hello', 'world']"
      ]
     },
     "execution_count": 361,
     "metadata": {},
     "output_type": "execute_result"
    }
   ],
   "source": [
    "\n",
    "@splitter_decorator\t# this is executed next\n",
    "@lowercase_decorator\t# this is executed first\n",
    "def hello():\n",
    "    return 'Hello World'\n",
    "\n",
    "hello() \t"
   ]
  },
  {
   "cell_type": "code",
   "execution_count": 37,
   "metadata": {},
   "outputs": [
    {
     "data": {
      "text/plain": [
       "'Hello Sara! Hello Ansh!'"
      ]
     },
     "execution_count": 37,
     "metadata": {},
     "output_type": "execute_result"
    }
   ],
   "source": [
    "# decorator function to capitalize names\n",
    "def names_decorator(function):\n",
    "    def wrapper(arg1, arg2):\n",
    "        arg1 = arg1.capitalize()\n",
    "        arg2 = arg2.capitalize()\n",
    "        string_hello = function(arg1, arg2)\n",
    "        return string_hello\n",
    "    return wrapper\n",
    "\n",
    "@names_decorator\n",
    "def say_hello(name1, name2):\n",
    "    return 'Hello ' + name1 + '! Hello ' + name2 + '!'\n",
    "\n",
    "say_hello('sara', 'ansh') \t"
   ]
  },
  {
   "cell_type": "markdown",
   "metadata": {},
   "source": [
    "# Generator "
   ]
  },
  {
   "cell_type": "markdown",
   "metadata": {},
   "source": [
    "Generator functions are functions that can suspend their execution after returning a value, in order to resume it at some later time and return another value. This is made possible by the yield keyword, which you use in place of return.\n",
    "\n",
    "It is a normal function except that it yields expression in the function. It does not implements __itr__ and next() method and reduce other overheads as well.\n",
    "\n",
    "If a function contains at least a yield statement, it becomes a generator. The yield keyword pauses the current execution by saving its states and then resume from the same when required."
   ]
  },
  {
   "cell_type": "raw",
   "metadata": {},
   "source": [
    " #The most common generator function you have worked with is the range\n",
    "def range(start, end, step): \n",
    "    cur = start \n",
    "    while cur > end: \n",
    "        yield cur \n",
    "        cur += step"
   ]
  },
  {
   "cell_type": "code",
   "execution_count": 380,
   "metadata": {},
   "outputs": [
    {
     "data": {
      "text/plain": [
       "8"
      ]
     },
     "execution_count": 380,
     "metadata": {},
     "output_type": "execute_result"
    }
   ],
   "source": [
    "## generate fibonacci numbers upto n\n",
    "def fib(n):\n",
    "    p, q = 0, 1\n",
    "    while(p < n):\n",
    "        yield p\n",
    "        p, q = q, p + q\n",
    "\n",
    "x = fib(10)    # create generator object \n",
    "  \n",
    "## iterating using __next__(), for Python2, use next()\n",
    "x.__next__()    # output => 0\n",
    "x.__next__()    # output => 1\n",
    "x.__next__()    # output => 1\n",
    "x.__next__()    # output => 2\n",
    "x.__next__()    # output => 3\n",
    "x.__next__()    # output => 5\n",
    "x.__next__()    # output => 8\n",
    "#x.__next__()    # error\n",
    "  \n"
   ]
  },
  {
   "cell_type": "code",
   "execution_count": 279,
   "metadata": {},
   "outputs": [
    {
     "name": "stdout",
     "output_type": "stream",
     "text": [
      "sun\n",
      "mon\n"
     ]
    }
   ],
   "source": [
    "def generate(index):\n",
    "  weekdays = ['sun','mon','tue','wed','thu','fri','sat']\n",
    "  yield weekdays[index]\n",
    "  yield weekdays[index+1]\n",
    "\n",
    "day = generate(0)\n",
    "print( next(day))\n",
    "print( next(day))"
   ]
  },
  {
   "cell_type": "markdown",
   "metadata": {},
   "source": [
    "# iterator"
   ]
  },
  {
   "cell_type": "markdown",
   "metadata": {},
   "source": [
    "iterator is an object.\n",
    "primarily offers 2 kinds of methods:__iter__() and next().\n",
    "\n",
    "It remembers its state i.e., where it is during iteration (see code below to see how)\n",
    "__iter__() method initializes an iterator.\n",
    "\n",
    "It has a __next__() method which returns the next item in iteration and points to the next element. Upon reaching the end of iterable object __next__() must return StopIteration exception.\n",
    "\n",
    "It is also self iterable.\n",
    "Iterators are objects with which we can iterate over iterable objects like lists, strings, etc. "
   ]
  },
  {
   "cell_type": "code",
   "execution_count": 61,
   "metadata": {},
   "outputs": [
    {
     "name": "stdout",
     "output_type": "stream",
     "text": [
      "1\n",
      "2\n",
      "3\n"
     ]
    }
   ],
   "source": [
    "class ArrayList:\n",
    "    def __init__(self, number_list):\n",
    "        self.numbers = number_list\n",
    "\n",
    "    def __iter__(self):\n",
    "        self.pos = 0\n",
    "        return self\n",
    "\n",
    "    def __next__(self):\n",
    "        if(self.pos < len(self.numbers)):\n",
    "            self.pos += 1\n",
    "            return self.numbers[self.pos - 1]\n",
    "        else:\n",
    "            raise StopIteration\n",
    "\n",
    "array_obj = ArrayList([1, 2, 3])\n",
    "\n",
    "it = iter(array_obj)\n",
    "\n",
    "print(next(it)) \n",
    "print(next(it)) \n",
    "print(next(it))\n",
    "\n",
    "#print(next(it))"
   ]
  },
  {
   "cell_type": "code",
   "execution_count": 200,
   "metadata": {},
   "outputs": [
    {
     "name": "stdout",
     "output_type": "stream",
     "text": [
      "apple\n",
      "banana\n",
      "cherry\n"
     ]
    }
   ],
   "source": [
    "mytuple = (\"apple\", \"banana\", \"cherry\")\n",
    "myit = iter(mytuple)\n",
    "\n",
    "print(next(myit))\n",
    "print(next(myit))\n",
    "print(next(myit))\n",
    "#print(next(myit))"
   ]
  },
  {
   "cell_type": "code",
   "execution_count": 193,
   "metadata": {},
   "outputs": [
    {
     "name": "stdout",
     "output_type": "stream",
     "text": [
      "apple\n",
      "banana\n",
      "cherry\n"
     ]
    }
   ],
   "source": [
    "# Looping Through an Iterator\n",
    "for myit in mytuple:\n",
    "    print(myit)"
   ]
  },
  {
   "cell_type": "code",
   "execution_count": 198,
   "metadata": {},
   "outputs": [
    {
     "name": "stdout",
     "output_type": "stream",
     "text": [
      "1\n",
      "2\n",
      "3\n",
      "4\n",
      "5\n"
     ]
    }
   ],
   "source": [
    "class MyNumbers:\n",
    "  def __iter__(self):\n",
    "    self.a = 1\n",
    "    return self\n",
    "\n",
    "  def __next__(self):\n",
    "    if self.a <= 5:\n",
    "      x = self.a\n",
    "      self.a += 1\n",
    "      return x\n",
    "    else:\n",
    "      raise StopIteration\n",
    "\n",
    "myclass = MyNumbers()\n",
    "myiter = iter(myclass)\n",
    "\n",
    "for x in myiter:\n",
    "  print(x)"
   ]
  },
  {
   "cell_type": "code",
   "execution_count": null,
   "metadata": {},
   "outputs": [],
   "source": []
  },
  {
   "cell_type": "code",
   "execution_count": null,
   "metadata": {},
   "outputs": [],
   "source": []
  },
  {
   "cell_type": "code",
   "execution_count": null,
   "metadata": {},
   "outputs": [],
   "source": []
  },
  {
   "cell_type": "markdown",
   "metadata": {},
   "source": [
    "# comprehension"
   ]
  },
  {
   "cell_type": "code",
   "execution_count": 84,
   "metadata": {},
   "outputs": [
    {
     "name": "stdout",
     "output_type": "stream",
     "text": [
      "2\n"
     ]
    }
   ],
   "source": [
    "a, b = 2,5  \n",
    "\n",
    "min = a if a < b else b  \n",
    "print(min)   "
   ]
  },
  {
   "cell_type": "code",
   "execution_count": 85,
   "metadata": {},
   "outputs": [
    {
     "name": "stdout",
     "output_type": "stream",
     "text": [
      "8\n",
      "12\n"
     ]
    }
   ],
   "source": [
    "a = 10   \n",
    "b = 12  \n",
    "print(a & b) # 8  \n",
    "print (a and b)"
   ]
  },
  {
   "cell_type": "code",
   "execution_count": 86,
   "metadata": {},
   "outputs": [
    {
     "name": "stdout",
     "output_type": "stream",
     "text": [
      "14\n",
      "6\n",
      "-11\n"
     ]
    }
   ],
   "source": [
    "print(a | b) # 14  \n",
    "print(a ^ b) # 6  \n",
    "print(~a) # -11  "
   ]
  },
  {
   "cell_type": "code",
   "execution_count": 38,
   "metadata": {},
   "outputs": [
    {
     "data": {
      "text/plain": [
       "([4, 9, 25, 49, 121], {2: 4, 3: 9, 5: 25, 7: 49, 11: 121})"
      ]
     },
     "execution_count": 38,
     "metadata": {},
     "output_type": "execute_result"
    }
   ],
   "source": [
    "my_list = [2, 3, 5, 7, 11]\n",
    "\n",
    "squared_list = [x**2 for x in my_list]    # list comprehension\n",
    "squared_dict = {x:x**2 for x in my_list}    # dict comprehension\n",
    "squared_list,squared_dict"
   ]
  },
  {
   "cell_type": "code",
   "execution_count": 46,
   "metadata": {},
   "outputs": [
    {
     "name": "stdout",
     "output_type": "stream",
     "text": [
      "[1, 2, 3, 7, 8, 9]\n"
     ]
    },
    {
     "data": {
      "text/plain": [
       "[8, 10, 12]"
      ]
     },
     "execution_count": 46,
     "metadata": {},
     "output_type": "execute_result"
    }
   ],
   "source": [
    "a = [1, 2, 3]\n",
    "b = [7, 8, 9]\n",
    "c=a+b# extends\n",
    "print(c)\n",
    "[(x + y) for (x,y) in zip(a,b)]  # parallel iterators"
   ]
  },
  {
   "cell_type": "code",
   "execution_count": 47,
   "metadata": {},
   "outputs": [
    {
     "data": {
      "text/plain": [
       "[(1, 7), (1, 8), (1, 9), (2, 7), (2, 8), (2, 9), (3, 7), (3, 8), (3, 9)]"
      ]
     },
     "execution_count": 47,
     "metadata": {},
     "output_type": "execute_result"
    }
   ],
   "source": [
    "[(x,y) for x in a for y in b]    # nested iterators"
   ]
  },
  {
   "cell_type": "code",
   "execution_count": 48,
   "metadata": {},
   "outputs": [
    {
     "name": "stdout",
     "output_type": "stream",
     "text": [
      "10\n"
     ]
    }
   ],
   "source": [
    "mul = lambda a, b : a * b\n",
    "print(mul(2, 5))"
   ]
  },
  {
   "cell_type": "markdown",
   "metadata": {},
   "source": [
    "# shallow copy deep copy"
   ]
  },
  {
   "cell_type": "code",
   "execution_count": 51,
   "metadata": {},
   "outputs": [
    {
     "data": {
      "text/plain": [
       "[1, 2, [3, 5], 4]"
      ]
     },
     "execution_count": 51,
     "metadata": {},
     "output_type": "execute_result"
    }
   ],
   "source": [
    "list_1 = [1, 2, [3, 5], 4]\n",
    "list_1"
   ]
  },
  {
   "cell_type": "code",
   "execution_count": 53,
   "metadata": {},
   "outputs": [
    {
     "name": "stdout",
     "output_type": "stream",
     "text": [
      "[1, 2, [3, 5, 6, 6], 7]\n",
      "[1, 2, [3, 5, 6, 6], 4]\n"
     ]
    }
   ],
   "source": [
    "from copy import copy, deepcopy\n",
    "\n",
    "## shallow copy\n",
    "\n",
    "list_2 = copy(list_1) \n",
    "list_2[3] = 7\n",
    "list_2[2].append(6)\n",
    "\n",
    "\n",
    "print(list_2)   \n",
    "print(list_1)"
   ]
  },
  {
   "cell_type": "code",
   "execution_count": 54,
   "metadata": {},
   "outputs": [
    {
     "name": "stdout",
     "output_type": "stream",
     "text": [
      "[1, 2, [3, 5, 6, 6, 7], 8]\n",
      "[1, 2, [3, 5, 6, 6], 4]\n"
     ]
    }
   ],
   "source": [
    "## deep copy\n",
    "\n",
    "list_3 = deepcopy(list_1)\n",
    "list_3[3] = 8\n",
    "list_3[2].append(7)\n",
    "\n",
    "print(list_3)    # output => [1, 2, [3, 5, 6, 7], 8]\n",
    "print(list_1)    # output => [1, 2, [3, 5, 6], 4]"
   ]
  },
  {
   "cell_type": "code",
   "execution_count": 64,
   "metadata": {},
   "outputs": [
    {
     "name": "stdout",
     "output_type": "stream",
     "text": [
      "[2, 4, 6, 8, 10]\n"
     ]
    }
   ],
   "source": [
    "numbers = [1, 2, 3, 4, 5, 6, 7, 8, 9, 10]\n",
    "print(numbers[1 : : 2])"
   ]
  },
  {
   "cell_type": "markdown",
   "metadata": {},
   "source": [
    "# String operation"
   ]
  },
  {
   "cell_type": "code",
   "execution_count": 65,
   "metadata": {},
   "outputs": [
    {
     "name": "stdout",
     "output_type": "stream",
     "text": [
      "['This', 'is', 'a', 'string.']\n"
     ]
    }
   ],
   "source": [
    "string = \"This is a string.\"\n",
    "string_list = string.split(' ') #delimiter is ‘space’ character or ‘ ‘\n",
    "print(string_list) \n"
   ]
  },
  {
   "cell_type": "code",
   "execution_count": 66,
   "metadata": {},
   "outputs": [
    {
     "name": "stdout",
     "output_type": "stream",
     "text": [
      "This is a string.\n"
     ]
    }
   ],
   "source": [
    "print(' '.join(string_list))"
   ]
  },
  {
   "cell_type": "code",
   "execution_count": 83,
   "metadata": {},
   "outputs": [
    {
     "name": "stdout",
     "output_type": "stream",
     "text": [
      "*am*am*am*\n"
     ]
    }
   ],
   "source": [
    "print('am'.join(\"****\"))"
   ]
  },
  {
   "cell_type": "code",
   "execution_count": 78,
   "metadata": {},
   "outputs": [
    {
     "name": "stdout",
     "output_type": "stream",
     "text": [
      "    javatpoint         22\n",
      "javatpoint 10\n",
      "javatpoint         18\n"
     ]
    }
   ],
   "source": [
    "\n",
    "string = \"    javatpoint        \"  \n",
    "print(string,len(string))  \n",
    "print(string.strip(),len(string.strip()))\n",
    "print(string.lstrip(),len(string.lstrip()))  "
   ]
  },
  {
   "cell_type": "code",
   "execution_count": 178,
   "metadata": {},
   "outputs": [
    {
     "name": "stdout",
     "output_type": "stream",
     "text": [
      "Learn Python\n"
     ]
    }
   ],
   "source": [
    "str = 'lEaRn pYtHoN'\n",
    "print(str.title())"
   ]
  },
  {
   "cell_type": "code",
   "execution_count": 231,
   "metadata": {},
   "outputs": [
    {
     "name": "stdout",
     "output_type": "stream",
     "text": [
      "I have a Ford, it is a Mustang.\n"
     ]
    }
   ],
   "source": [
    "myorder = \"I have a {carname}, it is a {model}.\"\n",
    "print(myorder.format(carname = \"Ford\", model = \"Mustang\"))"
   ]
  },
  {
   "cell_type": "code",
   "execution_count": 233,
   "metadata": {},
   "outputs": [
    {
     "name": "stdout",
     "output_type": "stream",
     "text": [
      "His name is John. John is 36 years old.\n"
     ]
    }
   ],
   "source": [
    "txt = \"His name is {1}. {1} is {0} years old.\"\n",
    "age,name = 36, \"John\"\n",
    "print(txt.format(age, name))"
   ]
  },
  {
   "cell_type": "code",
   "execution_count": 238,
   "metadata": {},
   "outputs": [
    {
     "name": "stdout",
     "output_type": "stream",
     "text": [
      "a =******His name is John. ******John is 36 years old.$$$$$"
     ]
    }
   ],
   "source": [
    "a = \"His name is John. \"\n",
    "b=\"John is 36 years old.\"\n",
    "print(\"a =\", a,b, sep='******', end='$$$$$')  "
   ]
  },
  {
   "cell_type": "code",
   "execution_count": 299,
   "metadata": {},
   "outputs": [
    {
     "name": "stdout",
     "output_type": "stream",
     "text": [
      "I\n",
      "am\n",
      "a\n",
      "boy\n"
     ]
    }
   ],
   "source": [
    "#iteration through  string\n",
    "test_string = \"I am a boy\"\n",
    "res = test_string.split()  \n",
    "for i in res: \n",
    "    print(i) "
   ]
  },
  {
   "cell_type": "code",
   "execution_count": 300,
   "metadata": {},
   "outputs": [
    {
     "name": "stdout",
     "output_type": "stream",
     "text": [
      "I\n",
      " \n",
      "a\n",
      "m\n",
      " \n",
      "a\n",
      " \n",
      "b\n",
      "o\n",
      "y\n"
     ]
    }
   ],
   "source": [
    "for i in test_string: \n",
    "    print(i) "
   ]
  },
  {
   "cell_type": "code",
   "execution_count": 317,
   "metadata": {},
   "outputs": [
    {
     "name": "stdout",
     "output_type": "stream",
     "text": [
      "Hi\n"
     ]
    }
   ],
   "source": [
    "print(\"Hi\") if a<b else print(\"Bye\")"
   ]
  },
  {
   "cell_type": "code",
   "execution_count": 322,
   "metadata": {},
   "outputs": [
    {
     "name": "stdout",
     "output_type": "stream",
     "text": [
      "1,2,3,4,5\n",
      "['1', '2', '3', '4', '5']\n"
     ]
    }
   ],
   "source": [
    "print(','.join('12345'))\n",
    "\n",
    "print('1,2,3,4,5'.split(','))"
   ]
  },
  {
   "cell_type": "code",
   "execution_count": null,
   "metadata": {},
   "outputs": [],
   "source": []
  },
  {
   "cell_type": "markdown",
   "metadata": {},
   "source": [
    "# Args Kargs"
   ]
  },
  {
   "cell_type": "code",
   "execution_count": 67,
   "metadata": {},
   "outputs": [
    {
     "name": "stdout",
     "output_type": "stream",
     "text": [
      "120\n"
     ]
    }
   ],
   "source": [
    "#“*” means variable length and “args” is the name used by convention. You can use any other. \n",
    "def multiply(a, b, *argv):\n",
    "    mul = a * b\n",
    "\n",
    "    for num in argv:\n",
    "        mul *= num\n",
    "\n",
    "    return mul\n",
    "\n",
    "print(multiply(1, 2, 3, 4, 5))"
   ]
  },
  {
   "cell_type": "code",
   "execution_count": 295,
   "metadata": {},
   "outputs": [
    {
     "name": "stdout",
     "output_type": "stream",
     "text": [
      "3\n",
      "2\n",
      "1\n",
      "4\n",
      "7\n",
      "a 1\n",
      "b 2\n",
      "c 7\n"
     ]
    }
   ],
   "source": [
    "def func(*args):\n",
    "    for i in args:\n",
    "        print(i)  \n",
    "\n",
    "func(3,2,1,4,7)\n",
    "\n",
    "def func(**kwargs):\n",
    "    for i in kwargs:\n",
    "        print(i,kwargs[i])\n",
    "\n",
    "func(a=1,b=2,c=7)"
   ]
  },
  {
   "cell_type": "code",
   "execution_count": 68,
   "metadata": {},
   "outputs": [
    {
     "name": "stdout",
     "output_type": "stream",
     "text": [
      "arg1: argument 1\n",
      "arg2: argument 2\n",
      "arg3: argument 3\n"
     ]
    }
   ],
   "source": [
    "\t#It is actually a dictionary of variable name and its value. \n",
    "def tellArguments(**kwargs):\n",
    "    for key, value in kwargs.items():\n",
    "        print(key + \": \" + value)\n",
    "tellArguments(arg1 = \"argument 1\", arg2 = \"argument 2\", arg3 = \"argument 3\")"
   ]
  },
  {
   "cell_type": "code",
   "execution_count": 168,
   "metadata": {},
   "outputs": [
    {
     "name": "stdout",
     "output_type": "stream",
     "text": [
      "John's age is 25.\n",
      "Kalley's age is 22.\n",
      "Tom's age is 32.\n"
     ]
    }
   ],
   "source": [
    "def fn(**kwargs):  \n",
    "    for emp, age in kwargs.items(): \n",
    "        print (\"%s's age is %s.\" %(emp, age)) \n",
    "    \n",
    "fn(John=25, Kalley=22, Tom=32)"
   ]
  },
  {
   "cell_type": "markdown",
   "metadata": {},
   "source": [
    "### We can't overload constructors or methods in Python. It shows an error if we try to overload.\n"
   ]
  },
  {
   "cell_type": "code",
   "execution_count": 71,
   "metadata": {},
   "outputs": [
    {
     "name": "stdout",
     "output_type": "stream",
     "text": [
      "rahul\n"
     ]
    }
   ],
   "source": [
    "class student:  \n",
    "    def __init__(self,name):  \n",
    "        self.name = name  \n",
    "    def __init__(self, name, email):  \n",
    "        self.name = name  \n",
    "        self.email = email  \n",
    "       \n",
    "# This line will generate an error  \n",
    "#st = student(\"rahul\")  \n",
    "  \n",
    "# This line will call the second constructor  \n",
    "st = student(\"rahul\", \"rahul@gmail.com\")  \n",
    "print(st.name)  "
   ]
  },
  {
   "cell_type": "markdown",
   "metadata": {},
   "source": [
    "# Enumeratae"
   ]
  },
  {
   "cell_type": "code",
   "execution_count": 96,
   "metadata": {},
   "outputs": [
    {
     "name": "stdout",
     "output_type": "stream",
     "text": [
      "0 Python\n",
      "1 Java\n",
      "2 C++\n"
     ]
    }
   ],
   "source": [
    "for i,v in enumerate(['Python','Java','C++']):  \n",
    "    print(i,v)  "
   ]
  },
  {
   "cell_type": "code",
   "execution_count": 94,
   "metadata": {},
   "outputs": [
    {
     "name": "stdout",
     "output_type": "stream",
     "text": [
      "10 Python\n",
      "11 Java\n",
      "12 C++\n"
     ]
    }
   ],
   "source": [
    "# enumerate using an index sequence  \n",
    "for count, item in enumerate(['Python','Java','C++'], 10):  \n",
    "    print(count, item)"
   ]
  },
  {
   "cell_type": "markdown",
   "metadata": {},
   "source": [
    "# Abstract class"
   ]
  },
  {
   "cell_type": "raw",
   "metadata": {},
   "source": [
    "# One common metaclass is ABCMeta, which is used to create abstract classes.\n",
    "from abc import ABC \n",
    "class AbstractCar(ABC): \n",
    "    @abstractmethod \n",
    "    def drive(self): \n",
    "        pass"
   ]
  },
  {
   "cell_type": "code",
   "execution_count": null,
   "metadata": {},
   "outputs": [],
   "source": [
    "#To implement the class, just inherit it:\n",
    "class ToyotaSupra(AbstractCar): \n",
    "    def drive(self): \n",
    "        print('brrrr sutututu')"
   ]
  },
  {
   "cell_type": "code",
   "execution_count": 98,
   "metadata": {},
   "outputs": [],
   "source": [
    "# Static mmmethod vs class method\n",
    "class A: \n",
    "    @staticmethod \n",
    "    def func1(): \n",
    "        pass \n",
    "    @classmethod \n",
    "    \n",
    "    def func2(cls): \n",
    "        pass"
   ]
  },
  {
   "cell_type": "markdown",
   "metadata": {},
   "source": [
    "# Local vs global"
   ]
  },
  {
   "cell_type": "code",
   "execution_count": 113,
   "metadata": {},
   "outputs": [
    {
     "name": "stdout",
     "output_type": "stream",
     "text": [
      "8\n",
      "5\n"
     ]
    }
   ],
   "source": [
    "#local\n",
    "x = 5 \n",
    "def func2(x): \n",
    "    x \n",
    "    x += 3 \n",
    "    print (x)\n",
    "func2(x)\n",
    "print(x)"
   ]
  },
  {
   "cell_type": "code",
   "execution_count": 383,
   "metadata": {},
   "outputs": [
    {
     "name": "stdout",
     "output_type": "stream",
     "text": [
      "8\n",
      "8\n"
     ]
    }
   ],
   "source": [
    "#global\n",
    "x = 5 \n",
    "def func2(): \n",
    "    global x # Knowlege of x without even getting in function\n",
    "    x += 3 \n",
    "    print (x)\n",
    "func2()\n",
    "print(x)"
   ]
  },
  {
   "cell_type": "code",
   "execution_count": null,
   "metadata": {},
   "outputs": [],
   "source": []
  },
  {
   "cell_type": "code",
   "execution_count": 118,
   "metadata": {},
   "outputs": [
    {
     "data": {
      "text/plain": [
       "{'a': 1, 'b': 2, 'c': 3, 'd': 4, 'e': 5}"
      ]
     },
     "execution_count": 118,
     "metadata": {},
     "output_type": "execute_result"
    }
   ],
   "source": [
    "dict(zip(('a','b','c','d','e'),(1,2,3,4,5)))"
   ]
  },
  {
   "cell_type": "markdown",
   "metadata": {},
   "source": [
    "# Monkey patching"
   ]
  },
  {
   "cell_type": "code",
   "execution_count": 122,
   "metadata": {},
   "outputs": [],
   "source": [
    "class MyClass:\n",
    "    def f(self):\n",
    "        print (\"f()\")"
   ]
  },
  {
   "cell_type": "code",
   "execution_count": 126,
   "metadata": {},
   "outputs": [
    {
     "name": "stdout",
     "output_type": "stream",
     "text": [
      "monkey_f()\n"
     ]
    }
   ],
   "source": [
    "def monkey_f(self):\n",
    "    print (\"monkey_f()\")\n",
    "\n",
    "MyClass.f = monkey_f\n",
    "obj = MyClass()\n",
    "obj.f()"
   ]
  },
  {
   "cell_type": "markdown",
   "metadata": {},
   "source": [
    "# Count capital letter"
   ]
  },
  {
   "cell_type": "code",
   "execution_count": 129,
   "metadata": {},
   "outputs": [
    {
     "data": {
      "text/plain": [
       "4"
      ]
     },
     "execution_count": 129,
     "metadata": {},
     "output_type": "execute_result"
    }
   ],
   "source": [
    "countletter=\"Hi I am a Boy from Indore\"\n",
    "count=sum(1 for line in countletter for character in line if character.isupper())\n",
    "count"
   ]
  },
  {
   "cell_type": "markdown",
   "metadata": {},
   "source": [
    "# sort vs sorted"
   ]
  },
  {
   "cell_type": "code",
   "execution_count": 141,
   "metadata": {},
   "outputs": [
    {
     "name": "stdout",
     "output_type": "stream",
     "text": [
      "[1, 4, 6, 8, 3, 4]\n",
      "[1, 3, 4, 4, 6, 8]\n"
     ]
    }
   ],
   "source": [
    "lis=[1,4,6,8,3,4]\n",
    "sorted(lis)\n",
    "print(lis)#no change you have to save it\n",
    "lis.sort()\n",
    "print(lis)"
   ]
  },
  {
   "cell_type": "code",
   "execution_count": 160,
   "metadata": {},
   "outputs": [
    {
     "data": {
      "text/plain": [
       "()"
      ]
     },
     "execution_count": 160,
     "metadata": {},
     "output_type": "execute_result"
    }
   ],
   "source": [
    "lis[10:]# no index error"
   ]
  },
  {
   "cell_type": "markdown",
   "metadata": {},
   "source": [
    "# map"
   ]
  },
  {
   "cell_type": "code",
   "execution_count": 155,
   "metadata": {},
   "outputs": [
    {
     "data": {
      "text/plain": [
       "[5, 6, 6]"
      ]
     },
     "execution_count": 155,
     "metadata": {},
     "output_type": "execute_result"
    }
   ],
   "source": [
    "def func(n):\n",
    "    return len(n)\n",
    "lis=('apple', 'banana', 'cherry')\n",
    "x = map(func,lis ) \n",
    "list(x)"
   ]
  },
  {
   "cell_type": "code",
   "execution_count": 158,
   "metadata": {},
   "outputs": [
    {
     "data": {
      "text/plain": [
       "[4]"
      ]
     },
     "execution_count": 158,
     "metadata": {},
     "output_type": "execute_result"
    }
   ],
   "source": [
    "# Lambda\n",
    "list(filter(lambda x:x>3,range(5)))"
   ]
  },
  {
   "cell_type": "code",
   "execution_count": 159,
   "metadata": {},
   "outputs": [
    {
     "data": {
      "text/plain": [
       "[False, False, False, False, True]"
      ]
     },
     "execution_count": 159,
     "metadata": {},
     "output_type": "execute_result"
    }
   ],
   "source": [
    "list(map(lambda x:x>3,range(5)))"
   ]
  },
  {
   "cell_type": "code",
   "execution_count": 162,
   "metadata": {},
   "outputs": [
    {
     "name": "stdout",
     "output_type": "stream",
     "text": [
      "['a', 'b', 'c', 'd', 'e', 'f', 'g', 'h']\n"
     ]
    }
   ],
   "source": [
    "# Remover duuuplicate \n",
    "duplicates = ['a','b','c','d','d','d','e','a','b','f','g','g','h']\n",
    "uniqueItems = list(set(duplicates))\n",
    "print (sorted(uniqueItems))"
   ]
  },
  {
   "cell_type": "code",
   "execution_count": 167,
   "metadata": {},
   "outputs": [
    {
     "data": {
      "text/plain": [
       "2349989634416"
      ]
     },
     "execution_count": 167,
     "metadata": {},
     "output_type": "execute_result"
    }
   ],
   "source": [
    "#unique id of everything\n",
    "import random \n",
    "random.seed(5)\n",
    "id(\"shivam\")"
   ]
  },
  {
   "cell_type": "markdown",
   "metadata": {},
   "source": [
    "# main() method\n",
    "The main() is the entry point function which happens to be called first in most programming languages.\n",
    "\n",
    "Since Python is interpreter-based, so it sequentially executes the lines of the code one-by-one.\n",
    "\n",
    "Python also does have a Main() method. But it gets executed whenever we run our Python script either by directly clicking it or starts it from the command line.\n",
    "\n",
    "We can also override the Python default main() function using the Python if statement. \n",
    "To see whether the main() gets called, we can use the __name__ variable in an if clause compares with the value “__main__.”"
   ]
  },
  {
   "cell_type": "code",
   "execution_count": 172,
   "metadata": {},
   "outputs": [
    {
     "name": "stdout",
     "output_type": "stream",
     "text": [
      "Testing the main function\n"
     ]
    }
   ],
   "source": [
    "\n",
    "def main():\n",
    "    print(\"Testing the main function\")\n",
    "if __name__ == '__main__':\n",
    "    main()"
   ]
  },
  {
   "cell_type": "code",
   "execution_count": 174,
   "metadata": {},
   "outputs": [
    {
     "name": "stdout",
     "output_type": "stream",
     "text": [
      "Learn to code from techbeamers."
     ]
    }
   ],
   "source": [
    "# Printing a dot in the end.\n",
    "print(\"Learn to code from techbeamers\" , end = '.')  "
   ]
  },
  {
   "cell_type": "code",
   "execution_count": 175,
   "metadata": {},
   "outputs": [
    {
     "name": "stdout",
     "output_type": "stream",
     "text": [
      "Learn to code from techbeamers.com "
     ]
    }
   ],
   "source": [
    "# Printing a dot in the end.\n",
    "print(\"Learn to code from techbeamers\" , end = '.')  \n",
    "print(\"com\", end = ' ')"
   ]
  },
  {
   "cell_type": "code",
   "execution_count": 176,
   "metadata": {},
   "outputs": [
    {
     "data": {
      "text/plain": [
       "122"
      ]
     },
     "execution_count": 176,
     "metadata": {},
     "output_type": "execute_result"
    }
   ],
   "source": [
    " ord(\"z\")"
   ]
  },
  {
   "cell_type": "markdown",
   "metadata": {},
   "source": [
    "PyPy provides maximum compatibility while utilizing CPython implementation for improving its performance.\n",
    "\n",
    "The tests confirmed that PyPy is nearly five times faster than the CPython."
   ]
  },
  {
   "cell_type": "markdown",
   "metadata": {},
   "source": [
    "# GIL \n",
    "\n",
    "Python ensures safe access to threads. It uses the GIL mutex to set synchronization. If a thread loses the GIL lock at any time, then you have to make the code thread-safe. synchronizing multiple threads from running the Python bytecodes at the same time."
   ]
  },
  {
   "cell_type": "code",
   "execution_count": null,
   "metadata": {},
   "outputs": [],
   "source": []
  },
  {
   "cell_type": "code",
   "execution_count": null,
   "metadata": {},
   "outputs": [],
   "source": []
  },
  {
   "cell_type": "code",
   "execution_count": null,
   "metadata": {},
   "outputs": [],
   "source": []
  },
  {
   "cell_type": "markdown",
   "metadata": {},
   "source": [
    "# os module"
   ]
  },
  {
   "cell_type": "code",
   "execution_count": 186,
   "metadata": {},
   "outputs": [
    {
     "data": {
      "text/plain": [
       "'C:\\\\Users\\\\spradhan'"
      ]
     },
     "execution_count": 186,
     "metadata": {},
     "output_type": "execute_result"
    }
   ],
   "source": [
    "import os\n",
    "os.getcwd()"
   ]
  },
  {
   "cell_type": "code",
   "execution_count": 190,
   "metadata": {},
   "outputs": [
    {
     "data": {
      "text/plain": [
       "'C:\\\\Users\\\\spradhan\\\\Desktop'"
      ]
     },
     "execution_count": 190,
     "metadata": {},
     "output_type": "execute_result"
    }
   ],
   "source": [
    "os.chdir('C:\\\\Users\\\\spradhan\\\\Desktop')\n",
    "os.getcwd()"
   ]
  },
  {
   "cell_type": "code",
   "execution_count": null,
   "metadata": {},
   "outputs": [],
   "source": []
  },
  {
   "cell_type": "code",
   "execution_count": null,
   "metadata": {},
   "outputs": [],
   "source": []
  },
  {
   "cell_type": "code",
   "execution_count": null,
   "metadata": {},
   "outputs": [],
   "source": []
  },
  {
   "cell_type": "code",
   "execution_count": null,
   "metadata": {},
   "outputs": [],
   "source": []
  },
  {
   "cell_type": "markdown",
   "metadata": {},
   "source": [
    "# Exception handling"
   ]
  },
  {
   "cell_type": "code",
   "execution_count": 240,
   "metadata": {},
   "outputs": [
    {
     "name": "stdout",
     "output_type": "stream",
     "text": [
      "Variable  is not defined\n",
      "The 'try except' is finished\n"
     ]
    }
   ],
   "source": [
    "x=0 # try 1,-1,a\n",
    "\n",
    "\n",
    "if not isinstance(x, int):\n",
    "    raise TypeError(\"Only integers are allowed\") \n",
    "if x < 0:\n",
    "    raise Exception(\"Sorry, no numbers below zero\") \n",
    "try:\n",
    "  print(xz/x)#remove z\n",
    "except NameError:\n",
    "  print(\"Variable  is not defined\")\n",
    "except ValueError as ex:#ValueError inherits from Exception. You can decide either only ValueError, or Exception \n",
    "        print(ex)\n",
    "except:\n",
    "  print(\"Something else went wrong\") \n",
    "else:\n",
    "  print(\"Nothing went wrong\") \n",
    "finally:\n",
    "  print(\"The 'try except' is finished\") "
   ]
  },
  {
   "cell_type": "code",
   "execution_count": null,
   "metadata": {},
   "outputs": [],
   "source": []
  },
  {
   "cell_type": "code",
   "execution_count": null,
   "metadata": {},
   "outputs": [],
   "source": []
  },
  {
   "cell_type": "markdown",
   "metadata": {},
   "source": [
    "# Dictionary"
   ]
  },
  {
   "cell_type": "code",
   "execution_count": 266,
   "metadata": {},
   "outputs": [
    {
     "name": "stdout",
     "output_type": "stream",
     "text": [
      "tecbeamers.com tecbeamers.com\n",
      "dict_keys(['site', 'traffic', 'type'])\n",
      "dict_values(['tecbeamers.com', 10000, 'organic'])\n"
     ]
    }
   ],
   "source": [
    "dic = {'site': 'tecbeamers.com', 'traffic': 10000, \"type\": \"organic\"}\n",
    "print(dic.get('site'),dic['site'])\n",
    "print(dic.keys())\n",
    "print(dic.values())"
   ]
  },
  {
   "cell_type": "code",
   "execution_count": 267,
   "metadata": {},
   "outputs": [
    {
     "name": "stdout",
     "output_type": "stream",
     "text": [
      "The key is: site\n",
      "The value is: tecbeamers.com\n",
      "++++++++++++++++++++++++\n",
      "The key is: traffic\n",
      "The value is: 10000\n",
      "++++++++++++++++++++++++\n",
      "The key is: type\n",
      "The value is: organic\n",
      "++++++++++++++++++++++++\n"
     ]
    }
   ],
   "source": [
    "for k, v in dic.items():\n",
    "    print(\"The key is: %s\" % k)\n",
    "    print(\"The value is: %s\" % v)\n",
    "    print(\"++++++++++++++++++++++++\")"
   ]
  },
  {
   "cell_type": "code",
   "execution_count": 268,
   "metadata": {},
   "outputs": [
    {
     "data": {
      "text/plain": [
       "{'site': 'tecbeamers.com', 'traffic': 10000, 'type': 'organic', 'new': 43534}"
      ]
     },
     "execution_count": 268,
     "metadata": {},
     "output_type": "execute_result"
    }
   ],
   "source": [
    "dic['new'] = 43534\n",
    "dic"
   ]
  },
  {
   "cell_type": "code",
   "execution_count": 269,
   "metadata": {},
   "outputs": [
    {
     "data": {
      "text/plain": [
       "True"
      ]
     },
     "execution_count": 269,
     "metadata": {},
     "output_type": "execute_result"
    }
   ],
   "source": [
    "\"traffic\" in dic"
   ]
  },
  {
   "cell_type": "code",
   "execution_count": 270,
   "metadata": {},
   "outputs": [
    {
     "name": "stdout",
     "output_type": "stream",
     "text": [
      "{'tuff': 1000000, 'social': 'social media'}\n"
     ]
    }
   ],
   "source": [
    "dic = {'tuff': 1000000, \"social\": \"social media\"}\n",
    "dic.update(dic)# remove all and add new\n",
    "print(dic)"
   ]
  },
  {
   "cell_type": "code",
   "execution_count": 271,
   "metadata": {},
   "outputs": [
    {
     "data": {
      "text/plain": [
       "{'social': 'social media'}"
      ]
     },
     "execution_count": 271,
     "metadata": {},
     "output_type": "execute_result"
    }
   ],
   "source": [
    "del dic[\"tuff\"]\n",
    "dic"
   ]
  },
  {
   "cell_type": "code",
   "execution_count": null,
   "metadata": {},
   "outputs": [],
   "source": []
  },
  {
   "cell_type": "code",
   "execution_count": 285,
   "metadata": {},
   "outputs": [
    {
     "name": "stdout",
     "output_type": "stream",
     "text": [
      "{10: 100, 11: 121, 12: 144, 13: 169, 14: 196, 15: 225, 16: 256, 17: 289, 18: 324, 19: 361}\n"
     ]
    }
   ],
   "source": [
    "adict = {var:var**2 for var in range(10, 20)}\n",
    "print(adict)"
   ]
  },
  {
   "cell_type": "code",
   "execution_count": 286,
   "metadata": {},
   "outputs": [
    {
     "data": {
      "text/plain": [
       "100"
      ]
     },
     "execution_count": 286,
     "metadata": {},
     "output_type": "execute_result"
    }
   ],
   "source": [
    "adict.pop(10)"
   ]
  },
  {
   "cell_type": "code",
   "execution_count": 290,
   "metadata": {},
   "outputs": [
    {
     "data": {
      "text/plain": [
       "{}"
      ]
     },
     "execution_count": 290,
     "metadata": {},
     "output_type": "execute_result"
    }
   ],
   "source": [
    "adict.clear()\n",
    "adict"
   ]
  },
  {
   "cell_type": "code",
   "execution_count": null,
   "metadata": {},
   "outputs": [],
   "source": []
  },
  {
   "cell_type": "code",
   "execution_count": null,
   "metadata": {},
   "outputs": [],
   "source": []
  },
  {
   "cell_type": "code",
   "execution_count": 291,
   "metadata": {},
   "outputs": [
    {
     "name": "stdout",
     "output_type": "stream",
     "text": [
      "{'a': 1, 'b': 2}\n"
     ]
    }
   ],
   "source": [
    "class MyClass(object):\n",
    "      def __init__(self, *args, **kwargs):\n",
    "                self.a = 1\n",
    "                self.b = 2\n",
    "  \n",
    "if __name__ == \"__main__\":\n",
    "     instance = MyClass()\n",
    "     print(instance.__dict__)\n",
    "\n"
   ]
  },
  {
   "cell_type": "markdown",
   "metadata": {},
   "source": [
    "the dict wastes a lot of RAM. \n",
    "\n",
    "The usage of __slots__ to tell Python not to use a dict, and only allocate space for a fixed set of attributes."
   ]
  },
  {
   "cell_type": "code",
   "execution_count": 293,
   "metadata": {},
   "outputs": [
    {
     "name": "stdout",
     "output_type": "stream",
     "text": [
      "['a', 'b']\n"
     ]
    }
   ],
   "source": [
    "# Object with slots\n",
    "\n",
    "class MyClass(object):\n",
    "      __slots__=['a', 'b']\n",
    "      def __init__(self, *args, **kwargs):\n",
    "                self.a = 1\n",
    "                self.b = 2\n",
    "  \n",
    "if __name__ == \"__main__\":\n",
    "     instance = MyClass()\n",
    "     print(instance.__slots__)"
   ]
  },
  {
   "cell_type": "code",
   "execution_count": null,
   "metadata": {},
   "outputs": [],
   "source": []
  },
  {
   "cell_type": "markdown",
   "metadata": {},
   "source": [
    "# List "
   ]
  },
  {
   "cell_type": "code",
   "execution_count": null,
   "metadata": {},
   "outputs": [],
   "source": []
  },
  {
   "cell_type": "code",
   "execution_count": 302,
   "metadata": {},
   "outputs": [
    {
     "name": "stdout",
     "output_type": "stream",
     "text": [
      "<zip object at 0x00000223264C7080>\n",
      "The output of zip() is : {('john', 28, 'Accounts'), ('jerry', 33, 'R&D'), ('tom', 32, 'HR'), ('jake', 44, 'IT')}\n"
     ]
    }
   ],
   "source": [
    "# Example: zip() function\n",
    "  \n",
    "emp = [ \"tom\", \"john\", \"jerry\", \"jake\" ] \n",
    "age = [ 32, 28, 33, 44 ] \n",
    "dept = [ 'HR', 'Accounts', 'R&D', 'IT' ] \n",
    "  \n",
    "# call zip() to map values \n",
    "out = zip(emp, age, dept)\n",
    "print(out)\n",
    "# convert all values for printing them as set \n",
    "out = set(out) \n",
    "  \n",
    "# Displaying the final values  \n",
    "print (\"The output of zip() is : \",end=\"\") \n",
    "print (out)"
   ]
  },
  {
   "cell_type": "code",
   "execution_count": null,
   "metadata": {},
   "outputs": [],
   "source": []
  },
  {
   "cell_type": "code",
   "execution_count": 280,
   "metadata": {},
   "outputs": [
    {
     "name": "stdout",
     "output_type": "stream",
     "text": [
      "{'sun': 'mon', 'tue': 'wed', 'thu': 'fri'}\n"
     ]
    }
   ],
   "source": [
    "# make list element as dictionary\n",
    "weekdays = ['sun','mon','tue','wed','thu','fri']\n",
    "listAsDict = dict(zip(weekdays[0::2], weekdays[1::2]))\n",
    "print(listAsDict)"
   ]
  },
  {
   "cell_type": "code",
   "execution_count": 282,
   "metadata": {},
   "outputs": [
    {
     "name": "stdout",
     "output_type": "stream",
     "text": [
      "[['sun', 2], ['wed', 1], ['mon', 3], ['thu', 1], ['tue', 1], ['fri', 1]]\n"
     ]
    }
   ],
   "source": [
    "weekdays = ['sun','mon','tue','wed','thu','fri','sun','mon','mon']\n",
    "print([[x,weekdays.count(x)] for x in set(weekdays)])\n"
   ]
  },
  {
   "cell_type": "code",
   "execution_count": null,
   "metadata": {},
   "outputs": [],
   "source": []
  },
  {
   "cell_type": "code",
   "execution_count": 288,
   "metadata": {},
   "outputs": [
    {
     "name": "stdout",
     "output_type": "stream",
     "text": [
      "3\n"
     ]
    }
   ],
   "source": [
    "weekdays = ['sun','mon','tue','wed','thu','fri','sun','mon','mon']\n",
    "print(weekdays.count('mon'))"
   ]
  },
  {
   "cell_type": "code",
   "execution_count": 289,
   "metadata": {},
   "outputs": [],
   "source": [
    "cat = ['fat', 'orange', 'loud']\n",
    "size, color, disposition = cat"
   ]
  },
  {
   "cell_type": "code",
   "execution_count": null,
   "metadata": {},
   "outputs": [],
   "source": []
  },
  {
   "cell_type": "markdown",
   "metadata": {},
   "source": [
    "# MySQL"
   ]
  },
  {
   "cell_type": "code",
   "execution_count": null,
   "metadata": {},
   "outputs": [],
   "source": []
  },
  {
   "cell_type": "code",
   "execution_count": null,
   "metadata": {},
   "outputs": [],
   "source": []
  },
  {
   "cell_type": "markdown",
   "metadata": {},
   "source": [
    "# File handling"
   ]
  },
  {
   "cell_type": "code",
   "execution_count": 305,
   "metadata": {},
   "outputs": [],
   "source": [
    " \n",
    "# Opening a file \n",
    "file1 = open('myfile.txt', 'w') \n",
    "L = [\"This is Delhi \\n\", \"This is Paris \\n\", \"This is London \\n\"] \n",
    "s = \"Hello\\n\"\n",
    "  \n",
    "# Writing a string to file \n",
    "file1.write(s) \n",
    "  \n",
    "# Writing multiple strings \n",
    "# at a time \n",
    "file1.writelines(L) \n",
    "  \n",
    "# Closing file \n",
    "file1.close() \n",
    "  "
   ]
  },
  {
   "cell_type": "code",
   "execution_count": 306,
   "metadata": {},
   "outputs": [
    {
     "name": "stdout",
     "output_type": "stream",
     "text": [
      "Hello\n",
      "This is Delhi \n",
      "This is Paris \n",
      "This is London \n",
      "\n"
     ]
    }
   ],
   "source": [
    "\n",
    "# Checking if the data is \n",
    "# written to file or not \n",
    "file1 = open('myfile.txt', 'r') \n",
    "print(file1.read()) \n",
    "file1.close() "
   ]
  },
  {
   "cell_type": "code",
   "execution_count": 313,
   "metadata": {},
   "outputs": [],
   "source": [
    "import random\n",
    "def random_line(fname):\n",
    "    lines = open(fname).read().splitlines()\n",
    "    return random.choice(lines)\n",
    "    print(random_line('test.txt'))\n",
    "    fname.close()# can coment"
   ]
  },
  {
   "cell_type": "code",
   "execution_count": 314,
   "metadata": {},
   "outputs": [
    {
     "name": "stdout",
     "output_type": "stream",
     "text": [
      "Hello\n",
      "This is Delhi \n",
      "This is Paris \n",
      "This is London \n",
      "\n"
     ]
    }
   ],
   "source": [
    "with open(\"myfile.txt\", \"r+\") as file1: \n",
    "    # Reading form a file \n",
    "    print(file1.read()) "
   ]
  },
  {
   "cell_type": "code",
   "execution_count": 316,
   "metadata": {},
   "outputs": [
    {
     "data": {
      "text/plain": [
       "'This is Delhi '"
      ]
     },
     "execution_count": 316,
     "metadata": {},
     "output_type": "execute_result"
    }
   ],
   "source": [
    "random_line(\"myfile.txt\")"
   ]
  },
  {
   "cell_type": "code",
   "execution_count": null,
   "metadata": {},
   "outputs": [],
   "source": []
  },
  {
   "cell_type": "markdown",
   "metadata": {},
   "source": [
    "# Threading"
   ]
  },
  {
   "cell_type": "code",
   "execution_count": 330,
   "metadata": {},
   "outputs": [],
   "source": [
    "import threading\n",
    "class x (threading.Thread):\n",
    "      def run(self):\n",
    "         for p in range(1, 101):\n",
    "              print(p)\n",
    "class y (threading.Thread):\n",
    "      def run(self):\n",
    "           for q in range(1001, 1101):\n",
    "              print(q)\n",
    "x1=x()\n",
    "y1=y()\n",
    "#x1.start()\n",
    "#y1.start()"
   ]
  },
  {
   "cell_type": "code",
   "execution_count": 331,
   "metadata": {},
   "outputs": [
    {
     "name": "stdout",
     "output_type": "stream",
     "text": [
      "<function A.<locals>.B at 0x00000223265200D0>\n",
      "7\n",
      "None\n"
     ]
    }
   ],
   "source": []
  },
  {
   "cell_type": "code",
   "execution_count": null,
   "metadata": {},
   "outputs": [],
   "source": []
  },
  {
   "cell_type": "markdown",
   "metadata": {},
   "source": [
    "# hash"
   ]
  },
  {
   "cell_type": "markdown",
   "metadata": {},
   "source": [
    " hash() functions hash value of given object. The object must be immutable. Hash value is an integer specific to the object. These hash values are used during dictionary lookup. \n",
    "\n",
    "Two objects may hash to the same hash value. This is called Hash collision. This means that if two objects have the same hash code, they do not necessarily have the same value.\n",
    "\n",
    "The hash() function internally calls __hash__() magic method. To obtain a hash value of object of user defined class, the class itself should provide overridden implementation of __hash__()"
   ]
  },
  {
   "cell_type": "code",
   "execution_count": 334,
   "metadata": {},
   "outputs": [
    {
     "name": "stdout",
     "output_type": "stream",
     "text": [
      "The hash is: -966983590454667812\n"
     ]
    }
   ],
   "source": [
    "class User:\n",
    "    def __init__(self, age, name):\n",
    "        self.age = age\n",
    "        self.name = name\n",
    "    def __hash__(self):\n",
    "        return hash((self.age, self.name))\n",
    "\n",
    "x = User(23, 'Shubham')\n",
    "print(\"The hash is: %d\" % hash(x))"
   ]
  },
  {
   "cell_type": "code",
   "execution_count": 336,
   "metadata": {},
   "outputs": [
    {
     "name": "stdout",
     "output_type": "stream",
     "text": [
      "100\n",
      "100\n"
     ]
    }
   ],
   "source": [
    "print (hash(100))\n",
    "print (hash(100.00))"
   ]
  },
  {
   "cell_type": "markdown",
   "metadata": {},
   "source": [
    "# all any"
   ]
  },
  {
   "cell_type": "code",
   "execution_count": 341,
   "metadata": {},
   "outputs": [
    {
     "name": "stdout",
     "output_type": "stream",
     "text": [
      "False\n",
      "True\n"
     ]
    }
   ],
   "source": [
    "lst=[50,32,45,90,60]\n",
    "even=lambda x:x%2==0\n",
    "print(  all(even(x) for x in lst))\n",
    "\n",
    "print( any(even(x) for x in lst))"
   ]
  },
  {
   "cell_type": "raw",
   "metadata": {},
   "source": [
    "Python uses reference counting method for garbage collection. As per this method, an object is eligible for garbage collection if its reference count becomes zero.\n",
    "\n",
    "In the following example, first obj becomes object of Myclass so its reference count is 1. But when we assign another object to obj, reference count of Myclass() becomes 0 and hence it is collected, thereby calling __del__() method inside the class."
   ]
  },
  {
   "cell_type": "code",
   "execution_count": 344,
   "metadata": {},
   "outputs": [
    {
     "name": "stdout",
     "output_type": "stream",
     "text": [
      "object initialized\n",
      "object destroyed\n"
     ]
    }
   ],
   "source": [
    "class Myclass:\n",
    "    def __init__(self):\n",
    "        print ('object initialized')\n",
    "\n",
    "    def __del__(self):\n",
    "        print ('object destroyed')\n",
    "\n",
    "x=Myclass()#object initialized\n",
    "del x#object destroyed"
   ]
  },
  {
   "cell_type": "code",
   "execution_count": 346,
   "metadata": {},
   "outputs": [
    {
     "name": "stdout",
     "output_type": "stream",
     "text": [
      "Before setattr name :  codeforyou\n",
      "After setattr name :  code4u\n"
     ]
    }
   ],
   "source": [
    "#Set get\n",
    "\n",
    "# initializing class  \n",
    "class Gfg: \n",
    "    name = 'codeforyou'\n",
    "      \n",
    "# initializing object \n",
    "obj = Gfg() \n",
    "  \n",
    "# printing object before setattr \n",
    "print(\"Before setattr name : \", obj.name) \n",
    "  \n",
    "# using setattr to change name \n",
    "setattr(obj, 'name', 'code4u') \n",
    "  \n",
    "# printing object after setattr \n",
    "print(\"After setattr name : \", obj.name) "
   ]
  },
  {
   "cell_type": "markdown",
   "metadata": {},
   "source": [
    "# Frozen Set\n",
    " a set is mutable. A frozen set is immutable.\n",
    " \n",
    " we cannot change its values. it can be used as a key for a dictionary."
   ]
  },
  {
   "cell_type": "code",
   "execution_count": 347,
   "metadata": {},
   "outputs": [],
   "source": [
    "myset={1,3,2,2}\n",
    "smyset=frozenset([1,3,2,2])"
   ]
  },
  {
   "cell_type": "code",
   "execution_count": 353,
   "metadata": {},
   "outputs": [
    {
     "data": {
      "text/plain": [
       "{1, 2, 3}"
      ]
     },
     "execution_count": 353,
     "metadata": {},
     "output_type": "execute_result"
    }
   ],
   "source": [
    "myset\n",
    "#myset[0]"
   ]
  },
  {
   "cell_type": "code",
   "execution_count": 354,
   "metadata": {},
   "outputs": [
    {
     "data": {
      "text/plain": [
       "frozenset({1, 2, 3})"
      ]
     },
     "execution_count": 354,
     "metadata": {},
     "output_type": "execute_result"
    }
   ],
   "source": [
    "smyset"
   ]
  },
  {
   "cell_type": "markdown",
   "metadata": {},
   "source": [
    "# Recursion"
   ]
  },
  {
   "cell_type": "code",
   "execution_count": 356,
   "metadata": {},
   "outputs": [
    {
     "data": {
      "text/plain": [
       "24"
      ]
     },
     "execution_count": 356,
     "metadata": {},
     "output_type": "execute_result"
    }
   ],
   "source": [
    "def facto(n):\n",
    "    if n==1: \n",
    "        return 1   \n",
    "    return n*facto(n-1)\n",
    "\n",
    "facto(4)"
   ]
  },
  {
   "cell_type": "markdown",
   "metadata": {},
   "source": [
    "# Counter module"
   ]
  },
  {
   "cell_type": "code",
   "execution_count": 367,
   "metadata": {},
   "outputs": [
    {
     "data": {
      "text/plain": [
       "Counter({1: 4, 3: 2, 2: 2, 4: 1})"
      ]
     },
     "execution_count": 367,
     "metadata": {},
     "output_type": "execute_result"
    }
   ],
   "source": [
    "from collections import Counter\n",
    "Counter([1,3,2,1,4,2,1,3,1])"
   ]
  },
  {
   "cell_type": "markdown",
   "metadata": {},
   "source": [
    "# Nonlocal"
   ]
  },
  {
   "cell_type": "code",
   "execution_count": 374,
   "metadata": {},
   "outputs": [
    {
     "name": "stdout",
     "output_type": "stream",
     "text": [
      "7\n",
      "8\n"
     ]
    }
   ],
   "source": [
    " def outer():\n",
    "    a=7\n",
    "    def inner():\n",
    "        nonlocal a #make it local .UnboundLocalError: local variable 'a' referenced before assignment\n",
    "\n",
    "        print(a)\n",
    "        a+=1\n",
    "        print(a)\n",
    "    inner()\n",
    "outer()"
   ]
  },
  {
   "cell_type": "markdown",
   "metadata": {},
   "source": [
    "### To make a Python Script executable on Unix, you need to do two things,\n",
    "\n",
    "Script file's mode must be executable and\n",
    "\n",
    "the first line must begin with # ( #!/usr/local/bin/python)\n"
   ]
  },
  {
   "cell_type": "markdown",
   "metadata": {},
   "source": [
    "# Re module"
   ]
  },
  {
   "cell_type": "code",
   "execution_count": 389,
   "metadata": {},
   "outputs": [
    {
     "data": {
      "text/plain": [
       "['abc', 'abc', 'abc', 'abc', 'abc']"
      ]
     },
     "execution_count": 389,
     "metadata": {},
     "output_type": "execute_result"
    }
   ],
   "source": [
    "import re\n",
    "import numpy as np\n",
    "my_text = 'abcc . / [ ba bc ba,b 913 bc...abc bac 34 34 +12abc abcabc' \n",
    "pattern = (r'abc')\n",
    "matches = re.findall(pattern, my_text) #matches = findall()\n",
    "matches"
   ]
  },
  {
   "cell_type": "code",
   "execution_count": 414,
   "metadata": {},
   "outputs": [
    {
     "name": "stdout",
     "output_type": "stream",
     "text": [
      "<re.Match object; span=(0, 3), match='abc'>\n",
      "<re.Match object; span=(31, 34), match='abc'>\n",
      "<re.Match object; span=(48, 51), match='abc'>\n",
      "<re.Match object; span=(52, 55), match='abc'>\n",
      "<re.Match object; span=(55, 58), match='abc'>\n"
     ]
    }
   ],
   "source": [
    "patron = re.compile(r'abc')\n",
    "match = patron.finditer(my_text)\n",
    "\n",
    "for i in match:\n",
    "    print(i)"
   ]
  },
  {
   "cell_type": "code",
   "execution_count": 390,
   "metadata": {},
   "outputs": [
    {
     "data": {
      "text/plain": [
       "'abc'"
      ]
     },
     "execution_count": 390,
     "metadata": {},
     "output_type": "execute_result"
    }
   ],
   "source": [
    "match = re.search(pattern, my_text)#, only the first occurrence of the match will be returned:\n",
    "match.group()"
   ]
  },
  {
   "cell_type": "code",
   "execution_count": 392,
   "metadata": {},
   "outputs": [
    {
     "data": {
      "text/plain": [
       "'abc'"
      ]
     },
     "execution_count": 392,
     "metadata": {},
     "output_type": "execute_result"
    }
   ],
   "source": [
    "a = re.match(pattern, my_text)\n",
    "a.group()"
   ]
  },
  {
   "cell_type": "markdown",
   "metadata": {},
   "source": [
    "# start with The ends with spain and sometihing in middle"
   ]
  },
  {
   "cell_type": "code",
   "execution_count": 405,
   "metadata": {},
   "outputs": [
    {
     "data": {
      "text/plain": [
       "['The rain in adefajfljiosd  Spain']"
      ]
     },
     "execution_count": 405,
     "metadata": {},
     "output_type": "execute_result"
    }
   ],
   "source": [
    "import re\n",
    "\n",
    "txt = \"The rain in adefajfljiosd  Spain\"\n",
    "x = re.findall(\"^The.*Spain$\", txt) \n",
    "x"
   ]
  },
  {
   "cell_type": "markdown",
   "metadata": {},
   "source": [
    "# contr+f in a text"
   ]
  },
  {
   "cell_type": "code",
   "execution_count": 409,
   "metadata": {},
   "outputs": [
    {
     "name": "stdout",
     "output_type": "stream",
     "text": [
      "['ai', 'ai']\n"
     ]
    }
   ],
   "source": [
    "\n",
    "txt = \"The pain in rain\"\n",
    "x = re.findall(\"ai\", txt)\n",
    "print(x) "
   ]
  },
  {
   "cell_type": "markdown",
   "metadata": {},
   "source": [
    "# Contr+r in a text"
   ]
  },
  {
   "cell_type": "code",
   "execution_count": 417,
   "metadata": {},
   "outputs": [
    {
     "ename": "SyntaxError",
     "evalue": "unmatched ']' (<ipython-input-417-31bef5d7e502>, line 3)",
     "output_type": "error",
     "traceback": [
      "\u001b[1;36m  File \u001b[1;32m\"<ipython-input-417-31bef5d7e502>\"\u001b[1;36m, line \u001b[1;32m3\u001b[0m\n\u001b[1;33m    print(x) ]/\u001b[0m\n\u001b[1;37m             ^\u001b[0m\n\u001b[1;31mSyntaxError\u001b[0m\u001b[1;31m:\u001b[0m unmatched ']'\n"
     ]
    }
   ],
   "source": [
    "txt = \"The rain in Spain\"\n",
    "x = re.sub(\"\\s\", \"9\", txt)\n",
    "print(x) ]/"
   ]
  },
  {
   "cell_type": "code",
   "execution_count": 418,
   "metadata": {},
   "outputs": [
    {
     "ename": "SyntaxError",
     "evalue": "unmatched ']' (<ipython-input-418-8566b156c754>, line 4)",
     "output_type": "error",
     "traceback": [
      "\u001b[1;36m  File \u001b[1;32m\"<ipython-input-418-8566b156c754>\"\u001b[1;36m, line \u001b[1;32m4\u001b[0m\n\u001b[1;33m    ]0\u001b[0m\n\u001b[1;37m    ^\u001b[0m\n\u001b[1;31mSyntaxError\u001b[0m\u001b[1;31m:\u001b[0m unmatched ']'\n"
     ]
    }
   ],
   "source": [
    "txt = \"The rain in Spain\"\n",
    "x = re.split(\"\\s\", txt)\n",
    "print(x) \\\n",
    "]0\n",
    "\n",
    "p\\7\n",
    "p[l\\l\\\n",
    " 7\\5\n",
    " ]\n",
    ";7\\5.]"
   ]
  },
  {
   "cell_type": "code",
   "execution_count": null,
   "metadata": {},
   "outputs": [],
   "source": []
  }
 ],
 "metadata": {
  "kernelspec": {
   "display_name": "Python 3",
   "language": "python",
   "name": "python3"
  },
  "language_info": {
   "codemirror_mode": {
    "name": "ipython",
    "version": 3
   },
   "file_extension": ".py",
   "mimetype": "text/x-python",
   "name": "python",
   "nbconvert_exporter": "python",
   "pygments_lexer": "ipython3",
   "version": "3.8.3"
  }
 },
 "nbformat": 4,
 "nbformat_minor": 4
}
